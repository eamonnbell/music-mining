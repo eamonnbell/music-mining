{
 "cells": [
  {
   "cell_type": "code",
   "execution_count": 7,
   "metadata": {
    "collapsed": true
   },
   "outputs": [],
   "source": [
    "with open('Bach.corpus', 'r') as f:\n",
    "    corpus = f.read()"
   ]
  },
  {
   "cell_type": "code",
   "execution_count": 11,
   "metadata": {},
   "outputs": [],
   "source": [
    "splitted = corpus.split(' ')"
   ]
  },
  {
   "cell_type": "code",
   "execution_count": 12,
   "metadata": {},
   "outputs": [
    {
     "data": {
      "text/plain": [
       "455987"
      ]
     },
     "execution_count": 12,
     "metadata": {},
     "output_type": "execute_result"
    }
   ],
   "source": [
    "len(splitted)"
   ]
  },
  {
   "cell_type": "code",
   "execution_count": 13,
   "metadata": {
    "collapsed": true
   },
   "outputs": [],
   "source": [
    "def chunks(l, n):\n",
    "    \"\"\"Yield successive n-sized chunks from l.\"\"\"\n",
    "    for i in range(0, len(l), n):\n",
    "        yield l[i:i + n]"
   ]
  },
  {
   "cell_type": "code",
   "execution_count": 14,
   "metadata": {
    "collapsed": true
   },
   "outputs": [],
   "source": [
    "with open('Bach.phrases', 'w') as f:\n",
    "    for chunk in chunks(splitted, 8):\n",
    "        f.write(\" \".join(chunk)+\"\\n\")"
   ]
  },
  {
   "cell_type": "code",
   "execution_count": 15,
   "metadata": {},
   "outputs": [
    {
     "name": "stdout",
     "output_type": "stream",
     "text": [
      "000000000100 100010000100 100010000100 100010000100 000010000000 000010000001 000000000001 100000000100\r\n",
      "000000000100 001000000100 001000000000 000010000100 000000000100 000001000100 000001000000 000010001000\r\n",
      "000000001000 001000001000 001000000000 100010000000 000010000000 000010000001 000000000001 100000000100\r\n",
      "001000000100 100000000100 100000000000 100000000100 100000000000 100000000100 000000000100 000000000001\r\n",
      "100000000100 000000000100 001000000100 001000000000 000010000100 000000000100 000001000100 000001000000\r\n",
      "000010001000 000010100000 000010001000 000000001000 001000001000 000000001000 100000001000 000000001000\r\n",
      "000000000101 100010000000 100010000000 100010000000 100010000100 000000000100 010000010100 000000000100\r\n",
      "001001000100 001000000100 001010000100 001010000000 000010000000 001000001001 000000001001 000001001001\r\n",
      "000001000000 100010000100 100000000100 101000000100 001000000100 000000000100 001010000100 001000000100\r\n",
      "001001000100 001001000000 000001000000 100010000000 000010000001 000010000101 000010000001 000010001001\r\n"
     ]
    }
   ],
   "source": [
    "!head Bach.phrases"
   ]
  },
  {
   "cell_type": "code",
   "execution_count": null,
   "metadata": {
    "collapsed": true
   },
   "outputs": [],
   "source": []
  }
 ],
 "metadata": {
  "kernelspec": {
   "display_name": "Python 3",
   "language": "python",
   "name": "python3"
  },
  "language_info": {
   "codemirror_mode": {
    "name": "ipython",
    "version": 3
   },
   "file_extension": ".py",
   "mimetype": "text/x-python",
   "name": "python",
   "nbconvert_exporter": "python",
   "pygments_lexer": "ipython3",
   "version": "3.6.0"
  }
 },
 "nbformat": 4,
 "nbformat_minor": 2
}
