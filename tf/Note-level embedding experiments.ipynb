{
 "cells": [
  {
   "cell_type": "markdown",
   "metadata": {},
   "source": [
    "# Note-level embedding experiments\n",
    "\n",
    "Eamonn Bell"
   ]
  },
  {
   "cell_type": "code",
   "execution_count": 356,
   "metadata": {
    "collapsed": true
   },
   "outputs": [],
   "source": [
    "from __future__ import absolute_import\n",
    "from __future__ import division\n",
    "from __future__ import print_function\n",
    "\n",
    "import collections\n",
    "import math\n",
    "import os\n",
    "import random\n",
    "import zipfile\n",
    "\n",
    "import numpy as np\n",
    "\n",
    "from six.moves import xrange  \n",
    "\n",
    "import tensorflow as tf"
   ]
  },
  {
   "cell_type": "code",
   "execution_count": 357,
   "metadata": {
    "collapsed": true
   },
   "outputs": [],
   "source": [
    "from itertools import chain"
   ]
  },
  {
   "cell_type": "code",
   "execution_count": 358,
   "metadata": {
    "collapsed": true
   },
   "outputs": [],
   "source": [
    "import json"
   ]
  },
  {
   "cell_type": "markdown",
   "metadata": {},
   "source": [
    "`out.json` is a JSONified version of the pickled Bach dataset here:\n",
    "http://www-etud.iro.umontreal.ca/~boulanni/icml2012"
   ]
  },
  {
   "cell_type": "code",
   "execution_count": 359,
   "metadata": {
    "collapsed": true
   },
   "outputs": [],
   "source": [
    "with open('out.json', 'r') as f:\n",
    "    d = json.load(f)"
   ]
  },
  {
   "cell_type": "code",
   "execution_count": 360,
   "metadata": {},
   "outputs": [
    {
     "data": {
      "text/plain": [
       "229"
      ]
     },
     "execution_count": 360,
     "metadata": {},
     "output_type": "execute_result"
    }
   ],
   "source": [
    "len(d['train'])"
   ]
  },
  {
   "cell_type": "markdown",
   "metadata": {},
   "source": [
    "The training data contains 229 pieces, represented as a list of lists"
   ]
  },
  {
   "cell_type": "code",
   "execution_count": 361,
   "metadata": {},
   "outputs": [
    {
     "data": {
      "text/plain": [
       "[[60, 72, 79, 88],\n",
       " [72, 79, 88],\n",
       " [67, 70, 76, 84],\n",
       " [69, 77, 86],\n",
       " [67, 70, 79, 88]]"
      ]
     },
     "execution_count": 361,
     "metadata": {},
     "output_type": "execute_result"
    }
   ],
   "source": [
    "d['train'][0][:5]"
   ]
  },
  {
   "cell_type": "markdown",
   "metadata": {},
   "source": [
    "Because the tensorflow code expects a stream of words we flatten out this dataset into the `notes` list so that I can keep the `build_dataset()` function pretty similar to the original code. We don't use the `notes` list in coming up with our training examples."
   ]
  },
  {
   "cell_type": "code",
   "execution_count": 362,
   "metadata": {
    "collapsed": true
   },
   "outputs": [],
   "source": [
    "notes = []\n",
    "\n",
    "for piece in d['train']:\n",
    "    for chord in piece:\n",
    "        for index, note in enumerate(chord):\n",
    "            \n",
    "            notes.append(note)"
   ]
  },
  {
   "cell_type": "markdown",
   "metadata": {},
   "source": [
    "Most of this code is based on this\n",
    "https://github.com/tensorflow/tensorflow/blob/master/tensorflow/examples/tutorials/word2vec/word2vec_basic.py"
   ]
  },
  {
   "cell_type": "code",
   "execution_count": 363,
   "metadata": {},
   "outputs": [
    {
     "name": "stdout",
     "output_type": "stream",
     "text": [
      "Most common words (+UNK) [['UNK', 0], (79, 5759), (72, 4507), (67, 3858), (84, 3733)]\n",
      "First ten notes as ids:  [6, 2, 1, 20, 2, 1, 20, 3, 17, 7]\n",
      "First ten notes as midi numbers:  [60, 72, 79, 88, 72, 79, 88, 67, 70, 76]\n"
     ]
    }
   ],
   "source": [
    "def build_dataset(words, n_words):\n",
    "    \"\"\"Process raw inputs into a dataset.\"\"\"\n",
    "    count = [['UNK', -1]]\n",
    "    count.extend(collections.Counter(words).most_common(n_words - 1))\n",
    "    dictionary = dict()\n",
    "    for word, _ in count:\n",
    "        dictionary[word] = len(dictionary)\n",
    "    data = list()\n",
    "    unk_count = 0\n",
    "    for word in words:\n",
    "        if word in dictionary:\n",
    "            index = dictionary[word]\n",
    "        else:\n",
    "            index = 0  # dictionary['UNK']\n",
    "            unk_count += 1\n",
    "        data.append(index)\n",
    "    count[0][1] = unk_count\n",
    "    reversed_dictionary = dict(zip(dictionary.values(), dictionary.keys()))\n",
    "    return data, count, dictionary, reversed_dictionary\n",
    "\n",
    "data, count, dictionary, reverse_dictionary = build_dataset(notes,\n",
    "                                                            vocabulary_size)\n",
    "print('Most common words (+UNK)', count[:5])\n",
    "print('First ten notes as ids: ',data[:10])\n",
    "print('First ten notes as midi numbers: ', [reverse_dictionary[i] for i in data[:10]])\n",
    "\n",
    "data_index = 0"
   ]
  },
  {
   "cell_type": "markdown",
   "metadata": {},
   "source": [
    "We are going to rewrite the generate_batch function so that we can use it to build arbitrary target-context pairs based on the temporal structure of the dataset.\n",
    "\n",
    "The model expects `generate_batch` to return an `ndarray` `batch` of shape `batch_size` and another array, `labels` of `shape` (`batch_size`, 1) where batch is has the targets (inputs to logit) and labels has the contexts (outputs). \n",
    "\n",
    "NB This is the skip-gram framing of task: predict context given input.\n",
    "\n",
    "For megabig corpora we generate target/context pairs on the fly. I think we should be able precompute all the contexts and keep them in memory. There's not that many.\n",
    "\n",
    "This is the simplest context bank generator we could have:"
   ]
  },
  {
   "cell_type": "code",
   "execution_count": 364,
   "metadata": {},
   "outputs": [],
   "source": [
    "def simple_context_bank():\n",
    "    context_bank = []\n",
    "\n",
    "    # for every piece in the corpus\n",
    "    for piece in d['train']:\n",
    "        # ...look in each chord\n",
    "        for chord in piece:\n",
    "            # ...and for each note in each chord, the context\n",
    "            # is exactly those notes in that chord\n",
    "            # excluding the note currently under consideration\n",
    "            for index, note in enumerate(chord):\n",
    "                others = chord[:index] + chord[index+1:]\n",
    "                context_bank.append([dictionary[n] for n in others])\n",
    "    return context_bank"
   ]
  },
  {
   "cell_type": "markdown",
   "metadata": {},
   "source": [
    "\n",
    "**The context for any note here is precisely those other notes happening at exactly the same time as the target.** This is where the context-building experimentation could happen (e.g. look back and forward one chord) which would tell us something about how notes in surrounding chords impact the makeup of the target chord."
   ]
  },
  {
   "cell_type": "code",
   "execution_count": 365,
   "metadata": {
    "collapsed": true
   },
   "outputs": [],
   "source": [
    "context_bank = simple_context_bank()"
   ]
  },
  {
   "cell_type": "markdown",
   "metadata": {},
   "source": [
    "The context_bank has precomputed the contexts for every single observation (not scalable lol)"
   ]
  },
  {
   "cell_type": "code",
   "execution_count": 366,
   "metadata": {},
   "outputs": [
    {
     "data": {
      "text/plain": [
       "(53824, 53824)"
      ]
     },
     "execution_count": 366,
     "metadata": {},
     "output_type": "execute_result"
    }
   ],
   "source": [
    "len(data), len(context_bank)"
   ]
  },
  {
   "cell_type": "markdown",
   "metadata": {},
   "source": [
    "Now, anytime I want a target-context pair, I can just go through this list, and choose a member of the second list at random."
   ]
  },
  {
   "cell_type": "code",
   "execution_count": 367,
   "metadata": {
    "collapsed": true
   },
   "outputs": [],
   "source": [
    "def generate_batch(batch_size, reuse_times, context_bank):\n",
    "    assert batch_size % reuse_times == 0\n",
    "    \n",
    "    # this isn't going to end well\n",
    "    global data_index\n",
    "    \n",
    "    batch = np.ndarray(shape=(batch_size), dtype=np.int32)\n",
    "    labels = np.ndarray(shape=(batch_size, 1), dtype=np.int32)\n",
    "    \n",
    "    batch_buffer = []\n",
    "    labels_buffer = []\n",
    "    \n",
    "    for i in range(batch_size // reuse_times):\n",
    "        # Very occasionaly the context is not defined\n",
    "        # this will cause the random.choice fxn to break\n",
    "        # lets use the UNK token for this \n",
    "\n",
    "        for _ in range(reuse_times):\n",
    "            if len(context_bank[data_index]) > 0:\n",
    "                target = random.choice(context_bank[data_index])\n",
    "            else:\n",
    "                target = dictionary['UNK']\n",
    "\n",
    "            batch_buffer.append(data[data_index])\n",
    "            labels_buffer.append(target)\n",
    "            \n",
    "        # loop around when necessary\n",
    "        data_index = (data_index + 1) % len(context_bank)\n",
    "        \n",
    "    batch = np.array(batch_buffer, dtype=np.int32)\n",
    "    labels = np.array(labels_buffer, dtype=np.int32).reshape((batch_size, 1))\n",
    "    \n",
    "    return batch, labels"
   ]
  },
  {
   "cell_type": "markdown",
   "metadata": {},
   "source": [
    "Build and train"
   ]
  },
  {
   "cell_type": "code",
   "execution_count": 368,
   "metadata": {},
   "outputs": [],
   "source": [
    "# reset global to 0\n",
    "data_index = 0\n",
    "\n",
    "# tweak this\n",
    "batch_size = 64\n",
    "embedding_size = 50  # Dimension of the embedding vector.\n",
    "reuse_times = 4         # How many times to reuse an input to generate a label.\n",
    "\n",
    "# We pick a random validation set to sample nearest neighbors. Here we limit the\n",
    "# validation samples to the words that have a low numeric ID, which by\n",
    "# construction are also the most frequent.\n",
    "\n",
    "#valid_size = 16     # Random set of words to evaluate similarity on.\n",
    "#valid_window = 100  # Only pick dev samples in the head of the distribution.\n",
    "#valid_examples = np.random.choice(valid_window, valid_size, replace=False)\n",
    "\n",
    "num_sampled = 16    # Number of negative examples to sample.\n",
    "\n",
    "graph = tf.Graph()\n",
    "\n",
    "with graph.as_default():\n",
    "    train_inputs = tf.placeholder(tf.int32, shape=[batch_size])\n",
    "    train_labels = tf.placeholder(tf.int32, shape=[batch_size, 1])\n",
    "    with tf.device('/cpu:0'):\n",
    "        embeddings = tf.Variable(tf.random_uniform([vocabulary_size, embedding_size], -1.0, 1.0))\n",
    "        embed = tf.nn.embedding_lookup(embeddings, train_inputs)\n",
    "\n",
    "    nce_weights = tf.Variable(tf.truncated_normal([vocabulary_size, embedding_size], stddev=1.0 / math.sqrt(embedding_size)))\n",
    "    nce_biases = tf.Variable(tf.zeros([vocabulary_size]))\n",
    "\n",
    "  # Compute the average NCE loss for the batch.\n",
    "  # tf.nce_loss automatically draws a new sample of the negative labels each\n",
    "  # time we evaluate the loss.\n",
    "    loss = tf.reduce_mean(\n",
    "        tf.nn.nce_loss(weights=nce_weights,\n",
    "                 biases=nce_biases,\n",
    "                 labels=train_labels,\n",
    "                 inputs=embed,\n",
    "                 num_sampled=num_sampled,\n",
    "                 num_classes=vocabulary_size))\n",
    "\n",
    "    optimizer = tf.train.GradientDescentOptimizer(0.1).minimize(loss)\n",
    "    \n",
    "    norm = tf.sqrt(tf.reduce_sum(tf.square(embeddings), 1, keep_dims=True))\n",
    "    normalized_embeddings = embeddings / norm\n",
    "\n",
    "    # Add variable initializer.\n",
    "    init = tf.global_variables_initializer()\n"
   ]
  },
  {
   "cell_type": "markdown",
   "metadata": {},
   "source": [
    "Double check that data_index is actually zero before training and regret using globals again"
   ]
  },
  {
   "cell_type": "code",
   "execution_count": 369,
   "metadata": {},
   "outputs": [
    {
     "data": {
      "text/plain": [
       "0"
      ]
     },
     "execution_count": 369,
     "metadata": {},
     "output_type": "execute_result"
    }
   ],
   "source": [
    "data_index"
   ]
  },
  {
   "cell_type": "markdown",
   "metadata": {},
   "source": [
    "Begin training"
   ]
  },
  {
   "cell_type": "code",
   "execution_count": 370,
   "metadata": {},
   "outputs": [
    {
     "name": "stdout",
     "output_type": "stream",
     "text": [
      "Initialized\n",
      "Average loss at step 0, with 0 examples seen : 25.876638412475586\n",
      "Average loss at step 50, with 3200 examples seen : 15.643218955993653\n",
      "Average loss at step 100, with 6400 examples seen : 7.8184959411621096\n",
      "Average loss at step 150, with 9600 examples seen : 4.886841616630554\n",
      "Average loss at step 200, with 12800 examples seen : 4.166600069999695\n",
      "Average loss at step 250, with 16000 examples seen : 3.7567923784255983\n",
      "Average loss at step 300, with 19200 examples seen : 3.5570074272155763\n",
      "Average loss at step 350, with 22400 examples seen : 3.542229256629944\n",
      "Average loss at step 400, with 25600 examples seen : 3.4949374389648438\n",
      "Average loss at step 450, with 28800 examples seen : 3.371658892631531\n",
      "Average loss at step 500, with 32000 examples seen : 3.2803210258483886\n",
      "Average loss at step 550, with 35200 examples seen : 3.572882933616638\n",
      "Average loss at step 600, with 38400 examples seen : 3.3138994455337523\n",
      "Average loss at step 650, with 41600 examples seen : 3.53032516002655\n",
      "Average loss at step 700, with 44800 examples seen : 3.314175605773926\n",
      "Average loss at step 750, with 48000 examples seen : 3.275324025154114\n",
      "Average loss at step 800, with 51200 examples seen : 3.221571612358093\n",
      "Average loss at step 850, with 54400 examples seen : 3.196597123146057\n",
      "Average loss at step 900, with 57600 examples seen : 3.152047290802002\n",
      "Average loss at step 950, with 60800 examples seen : 3.150589499473572\n",
      "Average loss at step 1000, with 64000 examples seen : 3.1735020875930786\n"
     ]
    }
   ],
   "source": [
    "num_steps = 1001\n",
    "\n",
    "with tf.Session(graph=graph) as session:\n",
    "  # We must initialize all variables before we use them.\n",
    "  init.run()\n",
    "  print('Initialized')\n",
    "\n",
    "  average_loss = 0\n",
    "  for step in xrange(num_steps):\n",
    "    batch_inputs, batch_labels = generate_batch(\n",
    "        batch_size, reuse_times, context_bank)\n",
    "    feed_dict = {train_inputs: batch_inputs, train_labels: batch_labels}\n",
    "\n",
    "    # We perform one update step by evaluating the optimizer op (including it\n",
    "    # in the list of returned values for session.run()\n",
    "    _, loss_val = session.run([optimizer, loss], feed_dict=feed_dict)\n",
    "    average_loss += loss_val\n",
    "\n",
    "    if step % 50 == 0:\n",
    "      if step > 0:\n",
    "        average_loss /= 50\n",
    "      # The average loss is an estimate of the loss over the last 2000 batches.\n",
    "      print(\"Average loss at step {}, with {} examples seen : {}\".format(step, step * batch_size, average_loss))\n",
    "      average_loss = 0\n",
    "\n",
    "  final_embeddings = normalized_embeddings.eval()"
   ]
  },
  {
   "cell_type": "code",
   "execution_count": 371,
   "metadata": {},
   "outputs": [
    {
     "data": {
      "text/plain": [
       "(55, 50)"
      ]
     },
     "execution_count": 371,
     "metadata": {},
     "output_type": "execute_result"
    }
   ],
   "source": [
    "final_embeddings.shape"
   ]
  },
  {
   "cell_type": "markdown",
   "metadata": {},
   "source": [
    "## GMM in embedding space"
   ]
  },
  {
   "cell_type": "code",
   "execution_count": 541,
   "metadata": {
    "collapsed": true
   },
   "outputs": [],
   "source": [
    "from sklearn.mixture import BayesianGaussianMixture"
   ]
  },
  {
   "cell_type": "code",
   "execution_count": 542,
   "metadata": {
    "collapsed": true
   },
   "outputs": [],
   "source": [
    "K = 12"
   ]
  },
  {
   "cell_type": "code",
   "execution_count": 543,
   "metadata": {},
   "outputs": [],
   "source": [
    "gmm = BayesianGaussianMixture(n_components=K)"
   ]
  },
  {
   "cell_type": "code",
   "execution_count": 544,
   "metadata": {
    "scrolled": true
   },
   "outputs": [
    {
     "data": {
      "text/plain": [
       "BayesianGaussianMixture(covariance_prior=None, covariance_type='full',\n",
       "            degrees_of_freedom_prior=None, init_params='kmeans',\n",
       "            max_iter=100, mean_precision_prior=None, mean_prior=None,\n",
       "            n_components=12, n_init=1, random_state=None, reg_covar=1e-06,\n",
       "            tol=0.001, verbose=0, verbose_interval=10, warm_start=False,\n",
       "            weight_concentration_prior=None,\n",
       "            weight_concentration_prior_type='dirichlet_process')"
      ]
     },
     "execution_count": 544,
     "metadata": {},
     "output_type": "execute_result"
    }
   ],
   "source": [
    "gmm.fit(final_embeddings)"
   ]
  },
  {
   "cell_type": "code",
   "execution_count": 545,
   "metadata": {},
   "outputs": [],
   "source": [
    "assignments = gmm.predict(final_embeddings)"
   ]
  },
  {
   "cell_type": "code",
   "execution_count": 546,
   "metadata": {},
   "outputs": [
    {
     "data": {
      "text/plain": [
       "array([ 6,  0,  6, 10,  3, 10,  4,  6,  2,  6,  7,  2,  4,  6,  1,  4, 10,\n",
       "        0,  1, 10,  3,  6,  6,  3,  3,  3,  3,  1, 10,  1,  1, 10,  1,  8,\n",
       "        4,  6,  7,  6, 10, 11, 10,  8,  4,  8,  3,  1,  9,  6,  4,  3,  9,\n",
       "       11,  7,  5,  5])"
      ]
     },
     "execution_count": 546,
     "metadata": {},
     "output_type": "execute_result"
    }
   ],
   "source": [
    "assignments"
   ]
  },
  {
   "cell_type": "code",
   "execution_count": 547,
   "metadata": {
    "collapsed": true
   },
   "outputs": [],
   "source": [
    "cluster_ids = list(set(assignments))"
   ]
  },
  {
   "cell_type": "code",
   "execution_count": 555,
   "metadata": {
    "collapsed": true
   },
   "outputs": [],
   "source": [
    "def midi_to_note_name(midi):\n",
    "    if midi == \"UNK\":\n",
    "        return midi\n",
    "    else:\n",
    "        chroma = midi % 12\n",
    "        octave = midi // 12\n",
    "        chromata = [\"C\", \"C#\", \"D\", \"E-\", \"E\", \"F\", \"F#\", \"G\", \"G#\", \"A\", \"B-\", \"B\"]\n",
    "        return \"{}{}\".format(chromata[chroma], octave)"
   ]
  },
  {
   "cell_type": "code",
   "execution_count": 556,
   "metadata": {},
   "outputs": [
    {
     "data": {
      "text/plain": [
       "'C5'"
      ]
     },
     "execution_count": 556,
     "metadata": {},
     "output_type": "execute_result"
    }
   ],
   "source": [
    "midi_to_note_name(60)"
   ]
  },
  {
   "cell_type": "code",
   "execution_count": 548,
   "metadata": {},
   "outputs": [],
   "source": [
    "midiNotes = [midi_to_note_name(reverse_dictionary[i]) for i in range(len(reverse_dictionary))]"
   ]
  },
  {
   "cell_type": "code",
   "execution_count": 549,
   "metadata": {
    "collapsed": true
   },
   "outputs": [],
   "source": [
    "cluster_members = {}"
   ]
  },
  {
   "cell_type": "code",
   "execution_count": 550,
   "metadata": {
    "collapsed": true
   },
   "outputs": [],
   "source": [
    "for cid in cluster_ids:\n",
    "    cluster_members[cid] = []\n",
    "    for a, mN in zip(list(assignments), midiNotes):\n",
    "        if a == cid:\n",
    "            cluster_members[cid].append(mN)"
   ]
  },
  {
   "cell_type": "code",
   "execution_count": 551,
   "metadata": {},
   "outputs": [
    {
     "data": {
      "text/plain": [
       "{0: ['G6', 'B-5'],\n",
       " 1: ['F5', 'B-6', 'G#6', 'B-4', 'F4', 'F#5', 'F#4'],\n",
       " 2: ['F6', 'A6'],\n",
       " 3: ['C7', 'E7', 'G7', 'E-7', 'G4', 'G#5', 'G#7', 'C#4'],\n",
       " 4: ['C5', 'A5', 'B6', 'C4', 'D4', 'B7'],\n",
       " 5: [],\n",
       " 6: ['UNK', 'C6', 'E6', 'D7', 'B5', 'E-5', 'F7', 'G#4', 'A7', 'C8'],\n",
       " 7: ['E-6', 'C#6'],\n",
       " 8: ['F#6', 'C#7', 'F#7'],\n",
       " 9: ['B-7', 'B-3'],\n",
       " 10: ['G5', 'D6', 'E5', 'D5', 'A4', 'B4', 'C#5', 'E4'],\n",
       " 11: ['E-4', 'G3']}"
      ]
     },
     "execution_count": 551,
     "metadata": {},
     "output_type": "execute_result"
    }
   ],
   "source": [
    "cluster_members"
   ]
  },
  {
   "cell_type": "code",
   "execution_count": 552,
   "metadata": {
    "collapsed": true
   },
   "outputs": [],
   "source": [
    "pca = PCA(n_components=2)"
   ]
  },
  {
   "cell_type": "code",
   "execution_count": 553,
   "metadata": {},
   "outputs": [],
   "source": [
    "proj = pca.fit_transform(final_embeddings)"
   ]
  },
  {
   "cell_type": "code",
   "execution_count": 554,
   "metadata": {},
   "outputs": [
    {
     "data": {
      "text/plain": [
       "<matplotlib.collections.PathCollection at 0x7f25dd0fafd0>"
      ]
     },
     "execution_count": 554,
     "metadata": {},
     "output_type": "execute_result"
    },
    {
     "data": {
      "image/png": "[encoded data removed]",
      "text/plain": [
       "<matplotlib.figure.Figure at 0x7f26181b9320>"
      ]
     },
     "metadata": {},
     "output_type": "display_data"
    }
   ],
   "source": [
    "plt.scatter(proj[:vocabulary_size, 0], proj[:vocabulary_size,1],c=assignments)"
   ]
  },
  {
   "cell_type": "markdown",
   "metadata": {},
   "source": [
    "## Visualizing the embedding space of notes"
   ]
  },
  {
   "cell_type": "code",
   "execution_count": 557,
   "metadata": {
    "collapsed": true,
    "scrolled": true
   },
   "outputs": [],
   "source": [
    "midiNotes = [midi_to_note_name(reverse_dictionary[i]) for i in range(len(reverse_dictionary))]"
   ]
  },
  {
   "cell_type": "code",
   "execution_count": 558,
   "metadata": {},
   "outputs": [
    {
     "data": {
      "text/plain": [
       "(55, 2)"
      ]
     },
     "execution_count": 558,
     "metadata": {},
     "output_type": "execute_result"
    }
   ],
   "source": [
    "proj.shape"
   ]
  },
  {
   "cell_type": "code",
   "execution_count": 559,
   "metadata": {
    "collapsed": true
   },
   "outputs": [],
   "source": [
    "from bokeh.plotting import figure, output_file, show, ColumnDataSource\n",
    "from bokeh.models import HoverTool, LabelSet\n",
    "from bokeh.io import output_notebook"
   ]
  },
  {
   "cell_type": "code",
   "execution_count": 560,
   "metadata": {},
   "outputs": [
    {
     "data": {
      "text/html": [
       "\n",
       "    <div class=\"bk-root\">\n",
       "        <a href=\"http://bokeh.pydata.org\" target=\"_blank\" class=\"bk-logo bk-logo-small bk-logo-notebook\"></a>\n",
       "        <span id=\"cc89736a-83b2-489d-8638-6c780fc68f52\">Loading BokehJS ...</span>\n",
       "    </div>"
      ]
     },
     "metadata": {},
     "output_type": "display_data"
    },
    {
     "data": {
      "application/javascript": [
       "\n",
       "(function(global) {\n",
       "  function now() {\n",
       "    return new Date();\n",
       "  }\n",
       "\n",
       "  var force = true;\n",
       "\n",
       "  if (typeof (window._bokeh_onload_callbacks) === \"undefined\" || force === true) {\n",
       "    window._bokeh_onload_callbacks = [];\n",
       "    window._bokeh_is_loading = undefined;\n",
       "  }\n",
       "\n",
       "\n",
       "  \n",
       "  if (typeof (window._bokeh_timeout) === \"undefined\" || force === true) {\n",
       "    window._bokeh_timeout = Date.now() + 5000;\n",
       "    window._bokeh_failed_load = false;\n",
       "  }\n",
       "\n",
       "  var NB_LOAD_WARNING = {'data': {'text/html':\n",
       "     \"<div style='background-color: #fdd'>\\n\"+\n",
       "     \"<p>\\n\"+\n",
       "     \"BokehJS does not appear to have successfully loaded. If loading BokehJS from CDN, this \\n\"+\n",
       "     \"may be due to a slow or bad network connection. Possible fixes:\\n\"+\n",
       "     \"</p>\\n\"+\n",
       "     \"<ul>\\n\"+\n",
       "     \"<li>re-rerun `output_notebook()` to attempt to load from CDN again, or</li>\\n\"+\n",
       "     \"<li>use INLINE resources instead, as so:</li>\\n\"+\n",
       "     \"</ul>\\n\"+\n",
       "     \"<code>\\n\"+\n",
       "     \"from bokeh.resources import INLINE\\n\"+\n",
       "     \"output_notebook(resources=INLINE)\\n\"+\n",
       "     \"</code>\\n\"+\n",
       "     \"</div>\"}};\n",
       "\n",
       "  function display_loaded() {\n",
       "    if (window.Bokeh !== undefined) {\n",
       "      var el = document.getElementById(\"cc89736a-83b2-489d-8638-6c780fc68f52\");\n",
       "      el.textContent = \"BokehJS \" + Bokeh.version + \" successfully loaded.\";\n",
       "    } else if (Date.now() < window._bokeh_timeout) {\n",
       "      setTimeout(display_loaded, 100)\n",
       "    }\n",
       "  }\n",
       "\n",
       "  function run_callbacks() {\n",
       "    window._bokeh_onload_callbacks.forEach(function(callback) { callback() });\n",
       "    delete window._bokeh_onload_callbacks\n",
       "    console.info(\"Bokeh: all callbacks have finished\");\n",
       "  }\n",
       "\n",
       "  function load_libs(js_urls, callback) {\n",
       "    window._bokeh_onload_callbacks.push(callback);\n",
       "    if (window._bokeh_is_loading > 0) {\n",
       "      console.log(\"Bokeh: BokehJS is being loaded, scheduling callback at\", now());\n",
       "      return null;\n",
       "    }\n",
       "    if (js_urls == null || js_urls.length === 0) {\n",
       "      run_callbacks();\n",
       "      return null;\n",
       "    }\n",
       "    console.log(\"Bokeh: BokehJS not loaded, scheduling load and callback at\", now());\n",
       "    window._bokeh_is_loading = js_urls.length;\n",
       "    for (var i = 0; i < js_urls.length; i++) {\n",
       "      var url = js_urls[i];\n",
       "      var s = document.createElement('script');\n",
       "      s.src = url;\n",
       "      s.async = false;\n",
       "      s.onreadystatechange = s.onload = function() {\n",
       "        window._bokeh_is_loading--;\n",
       "        if (window._bokeh_is_loading === 0) {\n",
       "          console.log(\"Bokeh: all BokehJS libraries loaded\");\n",
       "          run_callbacks()\n",
       "        }\n",
       "      };\n",
       "      s.onerror = function() {\n",
       "        console.warn(\"failed to load library \" + url);\n",
       "      };\n",
       "      console.log(\"Bokeh: injecting script tag for BokehJS library: \", url);\n",
       "      document.getElementsByTagName(\"head\")[0].appendChild(s);\n",
       "    }\n",
       "  };var element = document.getElementById(\"cc89736a-83b2-489d-8638-6c780fc68f52\");\n",
       "  if (element == null) {\n",
       "    console.log(\"Bokeh: ERROR: autoload.js configured with elementid 'cc89736a-83b2-489d-8638-6c780fc68f52' but no matching script tag was found. \")\n",
       "    return false;\n",
       "  }\n",
       "\n",
       "  var js_urls = [\"https://cdn.pydata.org/bokeh/release/bokeh-0.12.5.min.js\", \"https://cdn.pydata.org/bokeh/release/bokeh-widgets-0.12.5.min.js\"];\n",
       "\n",
       "  var inline_js = [\n",
       "    function(Bokeh) {\n",
       "      Bokeh.set_log_level(\"info\");\n",
       "    },\n",
       "    \n",
       "    function(Bokeh) {\n",
       "      \n",
       "    },\n",
       "    \n",
       "    function(Bokeh) {\n",
       "      \n",
       "      document.getElementById(\"cc89736a-83b2-489d-8638-6c780fc68f52\").textContent = \"BokehJS is loading...\";\n",
       "    },\n",
       "    function(Bokeh) {\n",
       "      console.log(\"Bokeh: injecting CSS: https://cdn.pydata.org/bokeh/release/bokeh-0.12.5.min.css\");\n",
       "      Bokeh.embed.inject_css(\"https://cdn.pydata.org/bokeh/release/bokeh-0.12.5.min.css\");\n",
       "      console.log(\"Bokeh: injecting CSS: https://cdn.pydata.org/bokeh/release/bokeh-widgets-0.12.5.min.css\");\n",
       "      Bokeh.embed.inject_css(\"https://cdn.pydata.org/bokeh/release/bokeh-widgets-0.12.5.min.css\");\n",
       "    }\n",
       "  ];\n",
       "\n",
       "  function run_inline_js() {\n",
       "    \n",
       "    if ((window.Bokeh !== undefined) || (force === true)) {\n",
       "      for (var i = 0; i < inline_js.length; i++) {\n",
       "        inline_js[i](window.Bokeh);\n",
       "      }if (force === true) {\n",
       "        display_loaded();\n",
       "      }} else if (Date.now() < window._bokeh_timeout) {\n",
       "      setTimeout(run_inline_js, 100);\n",
       "    } else if (!window._bokeh_failed_load) {\n",
       "      console.log(\"Bokeh: BokehJS failed to load within specified timeout.\");\n",
       "      window._bokeh_failed_load = true;\n",
       "    } else if (force !== true) {\n",
       "      var cell = $(document.getElementById(\"cc89736a-83b2-489d-8638-6c780fc68f52\")).parents('.cell').data().cell;\n",
       "      cell.output_area.append_execute_result(NB_LOAD_WARNING)\n",
       "    }\n",
       "\n",
       "  }\n",
       "\n",
       "  if (window._bokeh_is_loading === 0) {\n",
       "    console.log(\"Bokeh: BokehJS loaded, going straight to plotting\");\n",
       "    run_inline_js();\n",
       "  } else {\n",
       "    load_libs(js_urls, function() {\n",
       "      console.log(\"Bokeh: BokehJS plotting callback run at\", now());\n",
       "      run_inline_js();\n",
       "    });\n",
       "  }\n",
       "}(this));"
      ]
     },
     "metadata": {},
     "output_type": "display_data"
    }
   ],
   "source": [
    "output_notebook()"
   ]
  },
  {
   "cell_type": "code",
   "execution_count": 382,
   "metadata": {
    "collapsed": true
   },
   "outputs": [],
   "source": [
    "p = figure(plot_width=400, plot_height=400,\n",
    "           title=None, toolbar_location=\"below\")"
   ]
  },
  {
   "cell_type": "code",
   "execution_count": 383,
   "metadata": {},
   "outputs": [
    {
     "data": {
      "text/html": [
       "\n",
       "\n",
       "    <div class=\"bk-root\">\n",
       "        <div class=\"bk-plotdiv\" id=\"4a5caf62-b2b7-46a6-829a-9780807dab32\"></div>\n",
       "    </div>\n",
       "<script type=\"text/javascript\">\n",
       "  \n",
       "  (function(global) {\n",
       "    function now() {\n",
       "      return new Date();\n",
       "    }\n",
       "  \n",
       "    var force = false;\n",
       "  \n",
       "    if (typeof (window._bokeh_onload_callbacks) === \"undefined\" || force === true) {\n",
       "      window._bokeh_onload_callbacks = [];\n",
       "      window._bokeh_is_loading = undefined;\n",
       "    }\n",
       "  \n",
       "  \n",
       "    \n",
       "    if (typeof (window._bokeh_timeout) === \"undefined\" || force === true) {\n",
       "      window._bokeh_timeout = Date.now() + 0;\n",
       "      window._bokeh_failed_load = false;\n",
       "    }\n",
       "  \n",
       "    var NB_LOAD_WARNING = {'data': {'text/html':\n",
       "       \"<div style='background-color: #fdd'>\\n\"+\n",
       "       \"<p>\\n\"+\n",
       "       \"BokehJS does not appear to have successfully loaded. If loading BokehJS from CDN, this \\n\"+\n",
       "       \"may be due to a slow or bad network connection. Possible fixes:\\n\"+\n",
       "       \"</p>\\n\"+\n",
       "       \"<ul>\\n\"+\n",
       "       \"<li>re-rerun `output_notebook()` to attempt to load from CDN again, or</li>\\n\"+\n",
       "       \"<li>use INLINE resources instead, as so:</li>\\n\"+\n",
       "       \"</ul>\\n\"+\n",
       "       \"<code>\\n\"+\n",
       "       \"from bokeh.resources import INLINE\\n\"+\n",
       "       \"output_notebook(resources=INLINE)\\n\"+\n",
       "       \"</code>\\n\"+\n",
       "       \"</div>\"}};\n",
       "  \n",
       "    function display_loaded() {\n",
       "      if (window.Bokeh !== undefined) {\n",
       "        var el = document.getElementById(\"4a5caf62-b2b7-46a6-829a-9780807dab32\");\n",
       "        el.textContent = \"BokehJS \" + Bokeh.version + \" successfully loaded.\";\n",
       "      } else if (Date.now() < window._bokeh_timeout) {\n",
       "        setTimeout(display_loaded, 100)\n",
       "      }\n",
       "    }\n",
       "  \n",
       "    function run_callbacks() {\n",
       "      window._bokeh_onload_callbacks.forEach(function(callback) { callback() });\n",
       "      delete window._bokeh_onload_callbacks\n",
       "      console.info(\"Bokeh: all callbacks have finished\");\n",
       "    }\n",
       "  \n",
       "    function load_libs(js_urls, callback) {\n",
       "      window._bokeh_onload_callbacks.push(callback);\n",
       "      if (window._bokeh_is_loading > 0) {\n",
       "        console.log(\"Bokeh: BokehJS is being loaded, scheduling callback at\", now());\n",
       "        return null;\n",
       "      }\n",
       "      if (js_urls == null || js_urls.length === 0) {\n",
       "        run_callbacks();\n",
       "        return null;\n",
       "      }\n",
       "      console.log(\"Bokeh: BokehJS not loaded, scheduling load and callback at\", now());\n",
       "      window._bokeh_is_loading = js_urls.length;\n",
       "      for (var i = 0; i < js_urls.length; i++) {\n",
       "        var url = js_urls[i];\n",
       "        var s = document.createElement('script');\n",
       "        s.src = url;\n",
       "        s.async = false;\n",
       "        s.onreadystatechange = s.onload = function() {\n",
       "          window._bokeh_is_loading--;\n",
       "          if (window._bokeh_is_loading === 0) {\n",
       "            console.log(\"Bokeh: all BokehJS libraries loaded\");\n",
       "            run_callbacks()\n",
       "          }\n",
       "        };\n",
       "        s.onerror = function() {\n",
       "          console.warn(\"failed to load library \" + url);\n",
       "        };\n",
       "        console.log(\"Bokeh: injecting script tag for BokehJS library: \", url);\n",
       "        document.getElementsByTagName(\"head\")[0].appendChild(s);\n",
       "      }\n",
       "    };var element = document.getElementById(\"4a5caf62-b2b7-46a6-829a-9780807dab32\");\n",
       "    if (element == null) {\n",
       "      console.log(\"Bokeh: ERROR: autoload.js configured with elementid '4a5caf62-b2b7-46a6-829a-9780807dab32' but no matching script tag was found. \")\n",
       "      return false;\n",
       "    }\n",
       "  \n",
       "    var js_urls = [];\n",
       "  \n",
       "    var inline_js = [\n",
       "      function(Bokeh) {\n",
       "        (function() {\n",
       "          var fn = function() {\n",
       "            var docs_json = {\"f9db7190-92c2-483d-b8dc-808c104d8b77\":{\"roots\":{\"references\":[{\"attributes\":{},\"id\":\"7d6795f1-7c36-420d-9465-71387a51ea82\",\"type\":\"BasicTickFormatter\"},{\"attributes\":{},\"id\":\"d7347a76-1462-4951-af79-1194409a93d9\",\"type\":\"BasicTicker\"},{\"attributes\":{\"formatter\":{\"id\":\"41cb2785-90c7-4692-ae8b-5ae314c63c3b\",\"type\":\"BasicTickFormatter\"},\"plot\":{\"id\":\"2aec37b9-bc9d-4b95-a9b3-29eb274b698f\",\"subtype\":\"Figure\",\"type\":\"Plot\"},\"ticker\":{\"id\":\"d7347a76-1462-4951-af79-1194409a93d9\",\"type\":\"BasicTicker\"}},\"id\":\"af30bfbd-5c2d-4481-a723-20174278fdfc\",\"type\":\"LinearAxis\"},{\"attributes\":{},\"id\":\"aaf2c19e-1eb6-4a90-97a8-2fcc569b38ce\",\"type\":\"BasicTicker\"},{\"attributes\":{\"fill_color\":{\"value\":\"#1f77b4\"},\"line_color\":{\"value\":\"#1f77b4\"},\"x\":{\"field\":\"xs\"},\"y\":{\"field\":\"ys\"}},\"id\":\"5909d78b-7a21-4e50-889d-b4a36a3c8567\",\"type\":\"Circle\"},{\"attributes\":{\"data_source\":{\"id\":\"6f745286-2ebe-4763-98e8-73c3ed5b7142\",\"type\":\"ColumnDataSource\"},\"glyph\":{\"id\":\"5909d78b-7a21-4e50-889d-b4a36a3c8567\",\"type\":\"Circle\"},\"hover_glyph\":null,\"muted_glyph\":null,\"nonselection_glyph\":{\"id\":\"fa09b5a2-b9ce-4929-9e78-e78bb6c76d43\",\"type\":\"Circle\"},\"selection_glyph\":null},\"id\":\"b2f28599-a8ef-411b-9132-e4fc48360b7d\",\"type\":\"GlyphRenderer\"},{\"attributes\":{},\"id\":\"41cb2785-90c7-4692-ae8b-5ae314c63c3b\",\"type\":\"BasicTickFormatter\"},{\"attributes\":{\"callback\":null,\"plot\":{\"id\":\"2aec37b9-bc9d-4b95-a9b3-29eb274b698f\",\"subtype\":\"Figure\",\"type\":\"Plot\"},\"tooltips\":[[\"midiNotes\",\"@midiNotes\"]]},\"id\":\"c7eac24f-272b-4a0a-80c7-a28490a328bb\",\"type\":\"HoverTool\"},{\"attributes\":{\"callback\":null,\"column_names\":[\"xs\",\"ys\",\"midiNotes\"],\"data\":{\"midiNotes\":[\"UNK\",\"G6\",\"C6\",\"G5\",\"C7\",\"D6\",\"C5\",\"E6\",\"F6\",\"D7\",\"E-6\",\"A6\",\"A5\",\"B5\",\"F5\",\"B6\",\"E5\",\"B-5\",\"B-6\",\"D5\",\"E7\",\"E-5\",\"F7\",\"G7\",\"E-7\",\"G4\",\"G#5\",\"G#6\",\"A4\",\"B-4\",\"F4\",\"B4\",\"F#5\",\"F#6\",\"C4\",\"G#4\",\"C#6\",\"A7\",\"C#5\",\"E-4\",\"E4\",\"C#7\",\"D4\",\"F#7\",\"G#7\",\"F#4\",\"B-7\",\"C8\",\"B7\",\"C#4\",\"B-3\",\"G3\"],\"xs\":{\"__ndarray__\":\"+EQy3b/Mxr/KE4ovrmHTv1P9vVdq/dG/xdwYnF851r/dItnaXOmkv1z0cPH0m8W/V3ytvsJFx7+6JPpCIlarvyUT2ug7+7m/GWkj/gHF0L/He9i20oexvyDyEdz3BM+/3b6AmzsRgr/fR8hsTbbXv7NiDKvCcMu/KeXe+IKstL8qKlQ1uT/Iv4TilKeq48S/B6ROC1NDub8nBGQQCRbKv2/GucNXCNS/hlIlQpBNvT8DHLuaMuiaP+ofLQMCLrw/baUK1KWO2z/jMoeO0fOpPwm8uEBMcI2/2kaE65N7x7+6YDiIhJasP81hiDPpXq+/VOu96iR6wr92eKj8aLC5vxDzlN62xdS/IuaM2nHQzb/XXLrRFtW8PxpFw9nI+LO/vBIxy642mb/Yt78k43mWv6VvGZWjh3O/ZFEM5R5l1z+LRGY7Bb+Sv0QORBl2yNW/ndVXwq2l2D91KHtblheHv1tGC7s468U/PKLdze0dnD/vdRqabqbXP0GJ3yZVatA/UKpjyIJJ1D/C9MU+MSfiP+1MX+rF8OQ/ZZqYChMl1D8=\",\"dtype\":\"float64\",\"shape\":[52]},\"ys\":{\"__ndarray__\":\"5QqqzfFZxL/EpBqjDISNP8cndtOOOc2/Zl6hfpb0wr/oJzVwcvuvPyL/0WNu1bo/h+HgEopfoz+/aKLlUNjcvxUWBdse37+/4flh3PXvWb/EIg9YrEm4vw7YlzvPTMe/251uW6lAtz8/nsFpsrjBP8X1vMvKLMQ/V/x9Zzpmo78v8nGiddS6PyFXJbPt6qA/2QFwPqOf0j86HE4lF1PSv3H78DKp1GQ/SHLxreqc2r8Oypqb3tLev2V9HH9kOba/9QP26taMz7/UIv5W+3mzP1aJ/qSdQse/tAyNDY3joD8r9IRGmPPGv9xOVedc39c/qE+8JKJgwT9aQXgAcjaiPz6oxgo1lbk/t530Hw//0T9OZdnMoWXQv5NXLv1sWMy/u8vLzQSl0b9XeRKMUtjMP+Xrw1ABs+Q/1t9U/gSBlj+ThfDr53KgP6GK1FD5sNo/ByHNBfx4w7+If4+bBEu3v6UNQfWmibY/lQSEeRYYfT9Q1N4zfbnnP9trEKSKGs6/L0EVo0eu2r82UBC12yvCP/EbQrzaT9g/f4DTGWA5oj8=\",\"dtype\":\"float64\",\"shape\":[52]}}},\"id\":\"6f745286-2ebe-4763-98e8-73c3ed5b7142\",\"type\":\"ColumnDataSource\"},{\"attributes\":{\"dimension\":1,\"plot\":{\"id\":\"2aec37b9-bc9d-4b95-a9b3-29eb274b698f\",\"subtype\":\"Figure\",\"type\":\"Plot\"},\"ticker\":{\"id\":\"d7347a76-1462-4951-af79-1194409a93d9\",\"type\":\"BasicTicker\"}},\"id\":\"d6111d40-880f-4978-9e98-63b3d352bd8d\",\"type\":\"Grid\"},{\"attributes\":{\"plot\":{\"id\":\"2aec37b9-bc9d-4b95-a9b3-29eb274b698f\",\"subtype\":\"Figure\",\"type\":\"Plot\"},\"ticker\":{\"id\":\"aaf2c19e-1eb6-4a90-97a8-2fcc569b38ce\",\"type\":\"BasicTicker\"}},\"id\":\"89178254-b4c1-49bc-85ea-2d8ec487f964\",\"type\":\"Grid\"},{\"attributes\":{\"level\":\"glyph\",\"plot\":{\"id\":\"2aec37b9-bc9d-4b95-a9b3-29eb274b698f\",\"subtype\":\"Figure\",\"type\":\"Plot\"},\"source\":{\"id\":\"6f745286-2ebe-4763-98e8-73c3ed5b7142\",\"type\":\"ColumnDataSource\"},\"text\":{\"field\":\"midiNotes\"},\"x\":{\"field\":\"xs\"},\"x_offset\":{\"value\":5},\"y\":{\"field\":\"ys\"},\"y_offset\":{\"value\":5}},\"id\":\"2823df16-3b2e-4066-a24b-6ff2be1a4037\",\"type\":\"LabelSet\"},{\"attributes\":{\"below\":[{\"id\":\"377fd68f-4e50-4ede-bf93-3e41ac2633ad\",\"type\":\"LinearAxis\"}],\"left\":[{\"id\":\"af30bfbd-5c2d-4481-a723-20174278fdfc\",\"type\":\"LinearAxis\"}],\"plot_height\":400,\"plot_width\":400,\"renderers\":[{\"id\":\"377fd68f-4e50-4ede-bf93-3e41ac2633ad\",\"type\":\"LinearAxis\"},{\"id\":\"89178254-b4c1-49bc-85ea-2d8ec487f964\",\"type\":\"Grid\"},{\"id\":\"af30bfbd-5c2d-4481-a723-20174278fdfc\",\"type\":\"LinearAxis\"},{\"id\":\"d6111d40-880f-4978-9e98-63b3d352bd8d\",\"type\":\"Grid\"},{\"id\":\"5dd0d1ec-3656-41b2-b5a1-4810fa71e7c4\",\"type\":\"BoxAnnotation\"},{\"id\":\"b2f28599-a8ef-411b-9132-e4fc48360b7d\",\"type\":\"GlyphRenderer\"},{\"id\":\"2823df16-3b2e-4066-a24b-6ff2be1a4037\",\"type\":\"LabelSet\"}],\"title\":{\"id\":\"ec7ab4cd-2a15-4cd2-a4bc-9dbe1e3b89c5\",\"type\":\"Title\"},\"tool_events\":{\"id\":\"e8d362ba-2191-4397-aeea-81d3775d2370\",\"type\":\"ToolEvents\"},\"toolbar\":{\"id\":\"d824b456-5660-46f0-a0db-8c957118a6b3\",\"type\":\"Toolbar\"},\"x_range\":{\"id\":\"89ce906f-972f-49c1-b774-e173e15f39e2\",\"type\":\"DataRange1d\"},\"y_range\":{\"id\":\"02c7cd1c-0aac-42c7-a0b0-91b18a4ccd54\",\"type\":\"DataRange1d\"}},\"id\":\"2aec37b9-bc9d-4b95-a9b3-29eb274b698f\",\"subtype\":\"Figure\",\"type\":\"Plot\"},{\"attributes\":{},\"id\":\"e8d362ba-2191-4397-aeea-81d3775d2370\",\"type\":\"ToolEvents\"},{\"attributes\":{\"callback\":null},\"id\":\"89ce906f-972f-49c1-b774-e173e15f39e2\",\"type\":\"DataRange1d\"},{\"attributes\":{\"plot\":null,\"text\":\"\"},\"id\":\"ec7ab4cd-2a15-4cd2-a4bc-9dbe1e3b89c5\",\"type\":\"Title\"},{\"attributes\":{\"active_drag\":\"auto\",\"active_scroll\":\"auto\",\"active_tap\":\"auto\",\"tools\":[{\"id\":\"c7eac24f-272b-4a0a-80c7-a28490a328bb\",\"type\":\"HoverTool\"},{\"id\":\"c51faa46-4739-4376-a7af-112325b76d09\",\"type\":\"BoxZoomTool\"},{\"id\":\"8c917e5d-a0e9-4734-bd86-02a393cc36be\",\"type\":\"ResetTool\"}]},\"id\":\"d824b456-5660-46f0-a0db-8c957118a6b3\",\"type\":\"Toolbar\"},{\"attributes\":{\"fill_alpha\":{\"value\":0.1},\"fill_color\":{\"value\":\"#1f77b4\"},\"line_alpha\":{\"value\":0.1},\"line_color\":{\"value\":\"#1f77b4\"},\"x\":{\"field\":\"xs\"},\"y\":{\"field\":\"ys\"}},\"id\":\"fa09b5a2-b9ce-4929-9e78-e78bb6c76d43\",\"type\":\"Circle\"},{\"attributes\":{\"formatter\":{\"id\":\"7d6795f1-7c36-420d-9465-71387a51ea82\",\"type\":\"BasicTickFormatter\"},\"plot\":{\"id\":\"2aec37b9-bc9d-4b95-a9b3-29eb274b698f\",\"subtype\":\"Figure\",\"type\":\"Plot\"},\"ticker\":{\"id\":\"aaf2c19e-1eb6-4a90-97a8-2fcc569b38ce\",\"type\":\"BasicTicker\"}},\"id\":\"377fd68f-4e50-4ede-bf93-3e41ac2633ad\",\"type\":\"LinearAxis\"},{\"attributes\":{\"plot\":{\"id\":\"2aec37b9-bc9d-4b95-a9b3-29eb274b698f\",\"subtype\":\"Figure\",\"type\":\"Plot\"}},\"id\":\"8c917e5d-a0e9-4734-bd86-02a393cc36be\",\"type\":\"ResetTool\"},{\"attributes\":{\"callback\":null},\"id\":\"02c7cd1c-0aac-42c7-a0b0-91b18a4ccd54\",\"type\":\"DataRange1d\"},{\"attributes\":{\"overlay\":{\"id\":\"5dd0d1ec-3656-41b2-b5a1-4810fa71e7c4\",\"type\":\"BoxAnnotation\"},\"plot\":{\"id\":\"2aec37b9-bc9d-4b95-a9b3-29eb274b698f\",\"subtype\":\"Figure\",\"type\":\"Plot\"}},\"id\":\"c51faa46-4739-4376-a7af-112325b76d09\",\"type\":\"BoxZoomTool\"},{\"attributes\":{\"bottom_units\":\"screen\",\"fill_alpha\":{\"value\":0.5},\"fill_color\":{\"value\":\"lightgrey\"},\"left_units\":\"screen\",\"level\":\"overlay\",\"line_alpha\":{\"value\":1.0},\"line_color\":{\"value\":\"black\"},\"line_dash\":[4,4],\"line_width\":{\"value\":2},\"plot\":null,\"render_mode\":\"css\",\"right_units\":\"screen\",\"top_units\":\"screen\"},\"id\":\"5dd0d1ec-3656-41b2-b5a1-4810fa71e7c4\",\"type\":\"BoxAnnotation\"}],\"root_ids\":[\"2aec37b9-bc9d-4b95-a9b3-29eb274b698f\"]},\"title\":\"Bokeh Application\",\"version\":\"0.12.5\"}};\n",
       "            var render_items = [{\"docid\":\"f9db7190-92c2-483d-b8dc-808c104d8b77\",\"elementid\":\"4a5caf62-b2b7-46a6-829a-9780807dab32\",\"modelid\":\"2aec37b9-bc9d-4b95-a9b3-29eb274b698f\"}];\n",
       "            \n",
       "            Bokeh.embed.embed_items(docs_json, render_items);\n",
       "          };\n",
       "          if (document.readyState != \"loading\") fn();\n",
       "          else document.addEventListener(\"DOMContentLoaded\", fn);\n",
       "        })();\n",
       "      },\n",
       "      function(Bokeh) {\n",
       "      }\n",
       "    ];\n",
       "  \n",
       "    function run_inline_js() {\n",
       "      \n",
       "      if ((window.Bokeh !== undefined) || (force === true)) {\n",
       "        for (var i = 0; i < inline_js.length; i++) {\n",
       "          inline_js[i](window.Bokeh);\n",
       "        }if (force === true) {\n",
       "          display_loaded();\n",
       "        }} else if (Date.now() < window._bokeh_timeout) {\n",
       "        setTimeout(run_inline_js, 100);\n",
       "      } else if (!window._bokeh_failed_load) {\n",
       "        console.log(\"Bokeh: BokehJS failed to load within specified timeout.\");\n",
       "        window._bokeh_failed_load = true;\n",
       "      } else if (force !== true) {\n",
       "        var cell = $(document.getElementById(\"4a5caf62-b2b7-46a6-829a-9780807dab32\")).parents('.cell').data().cell;\n",
       "        cell.output_area.append_execute_result(NB_LOAD_WARNING)\n",
       "      }\n",
       "  \n",
       "    }\n",
       "  \n",
       "    if (window._bokeh_is_loading === 0) {\n",
       "      console.log(\"Bokeh: BokehJS loaded, going straight to plotting\");\n",
       "      run_inline_js();\n",
       "    } else {\n",
       "      load_libs(js_urls, function() {\n",
       "        console.log(\"Bokeh: BokehJS plotting callback run at\", now());\n",
       "        run_inline_js();\n",
       "      });\n",
       "    }\n",
       "  }(this));\n",
       "</script>"
      ]
     },
     "metadata": {},
     "output_type": "display_data"
    }
   ],
   "source": [
    "source = ColumnDataSource(\n",
    "        data=dict(\n",
    "            xs=proj[:len(midiNotes),0],\n",
    "            ys=proj[:len(midiNotes),1],\n",
    "            midiNotes=midiNotes,\n",
    "        )\n",
    "    )\n",
    "\n",
    "hover = HoverTool(\n",
    "        tooltips=[\n",
    "            (\"midiNotes\", \"@midiNotes\"),\n",
    "        ]\n",
    "    )\n",
    "\n",
    "labels = LabelSet(x='xs', y='ys', text='midiNotes', level='glyph',\n",
    "              x_offset=5, y_offset=5, source=source, render_mode='canvas')\n",
    "\n",
    "p = figure(plot_width=400, plot_height=400, tools=[hover, 'box_zoom', 'reset'])\n",
    "p.circle('xs', 'ys', source=source)\n",
    "\n",
    "p.add_layout(labels)\n",
    "\n",
    "show(p)"
   ]
  },
  {
   "cell_type": "code",
   "execution_count": null,
   "metadata": {
    "collapsed": true
   },
   "outputs": [],
   "source": []
  }
 ],
 "metadata": {
  "kernelspec": {
   "display_name": "Python 3",
   "language": "python",
   "name": "python3"
  },
  "language_info": {
   "codemirror_mode": {
    "name": "ipython",
    "version": 3
   },
   "file_extension": ".py",
   "mimetype": "text/x-python",
   "name": "python",
   "nbconvert_exporter": "python",
   "pygments_lexer": "ipython3",
   "version": "3.6.0"
  }
 },
 "nbformat": 4,
 "nbformat_minor": 2
}
