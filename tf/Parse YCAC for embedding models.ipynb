{
 "cells": [
  {
   "cell_type": "code",
   "execution_count": 23,
   "metadata": {
    "collapsed": true
   },
   "outputs": [],
   "source": [
    "import csv\n",
    "import zipfile"
   ]
  },
  {
   "cell_type": "code",
   "execution_count": 24,
   "metadata": {
    "collapsed": true
   },
   "outputs": [],
   "source": [
    "def test_field_generator():\n",
    "    f = open('test/data1.csv')\n",
    "    fg = field_generator(f, 'PCsInNormalForm')\n",
    "    unroll = [x for x in fg]\n",
    "    f.close()\n",
    "    \n",
    "    f = open('test/data1.csv')\n",
    "    assert len(unroll) == len(f.readlines()) - 1"
   ]
  },
  {
   "cell_type": "code",
   "execution_count": 25,
   "metadata": {
    "collapsed": false
   },
   "outputs": [],
   "source": [
    "def test_corpus_generator():\n",
    "    cg = corpus_generator('test/testcorpus.zip', 'PCsInNormalForm')\n",
    "    unroll = [x \n",
    "              for fg in cg\n",
    "              for x in fg]\n",
    "    assert len(unroll) == 198"
   ]
  },
  {
   "cell_type": "code",
   "execution_count": 26,
   "metadata": {
    "collapsed": false
   },
   "outputs": [],
   "source": [
    "def field_generator(fileobject, fieldname):\n",
    "    reader = csv.DictReader(fileobject)\n",
    "    for row in reader:\n",
    "        yield row[fieldname]"
   ]
  },
  {
   "cell_type": "code",
   "execution_count": 27,
   "metadata": {
    "collapsed": false
   },
   "outputs": [],
   "source": [
    "def corpus_generator(corpus_filename, fieldname):\n",
    "    with zipfile.ZipFile(corpus_filename) as zf:\n",
    "        csvs = [name for name in zf.namelist() if '__MACOSX' not in name and name[-4:] == '.csv']\n",
    "        for filename in csvs:\n",
    "            f = zf.open(filename)\n",
    "            yield field_generator(f, fieldname)"
   ]
  },
  {
   "cell_type": "code",
   "execution_count": 28,
   "metadata": {
    "collapsed": false
   },
   "outputs": [],
   "source": [
    "fieldnames = \"offset,Chord,NormalForm,PCsInNormalForm,GlobalScaleDegrees,\\\n",
    "HighestPitch,LowestPitch,file,Composer,LocalTonic,LocalMode,LocalSDForm_BassSD,Confidence\""
   ]
  },
  {
   "cell_type": "code",
   "execution_count": 29,
   "metadata": {
    "collapsed": false
   },
   "outputs": [],
   "source": [
    "cg = corpus_generator('data/HMB.zip', 'PCsInNormalForm')"
   ]
  },
  {
   "cell_type": "code",
   "execution_count": 30,
   "metadata": {
    "collapsed": false
   },
   "outputs": [],
   "source": [
    "data = (eval(data_point) \n",
    "        for fg in cg\n",
    "        for data_point in fg)"
   ]
  },
  {
   "cell_type": "code",
   "execution_count": 31,
   "metadata": {
    "collapsed": false
   },
   "outputs": [],
   "source": [
    "sorted_ = (str(sorted(x)).replace(\" \", \"\") for x in data if x is not None)"
   ]
  },
  {
   "cell_type": "code",
   "execution_count": 32,
   "metadata": {
    "collapsed": false
   },
   "outputs": [],
   "source": [
    "with open('pcs_hmb.txt', 'w') as f:\n",
    "    for x in sorted_:\n",
    "        f.write(x + ' ')"
   ]
  },
  {
   "cell_type": "code",
   "execution_count": 6,
   "metadata": {
    "collapsed": true
   },
   "outputs": [],
   "source": [
    "import pandas as pd"
   ]
  },
  {
   "cell_type": "code",
   "execution_count": null,
   "metadata": {
    "collapsed": true
   },
   "outputs": [],
   "source": []
  }
 ],
 "metadata": {
  "kernelspec": {
   "display_name": "Python 2",
   "language": "python",
   "name": "python2"
  },
  "language_info": {
   "codemirror_mode": {
    "name": "ipython",
    "version": 2
   },
   "file_extension": ".py",
   "mimetype": "text/x-python",
   "name": "python",
   "nbconvert_exporter": "python",
   "pygments_lexer": "ipython2",
   "version": "2.7.12"
  }
 },
 "nbformat": 4,
 "nbformat_minor": 0
}
