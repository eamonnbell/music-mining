{
 "cells": [
  {
   "cell_type": "code",
   "execution_count": 2,
   "metadata": {
    "collapsed": false
   },
   "outputs": [],
   "source": [
    "import json\n",
    "import numpy as np\n",
    "import tensorflow as tf\n",
    "\n",
    "from sklearn.manifold import TSNE\n",
    "from sklearn.decomposition import PCA"
   ]
  },
  {
   "cell_type": "code",
   "execution_count": 4,
   "metadata": {
    "collapsed": false
   },
   "outputs": [],
   "source": [
    "with open('labels.json','r') as fp:\n",
    "    labels = json.load(fp)"
   ]
  },
  {
   "cell_type": "code",
   "execution_count": 5,
   "metadata": {
    "collapsed": false
   },
   "outputs": [],
   "source": [
    "embeddings = np.load('embeddings.npy')"
   ]
  },
  {
   "cell_type": "code",
   "execution_count": 6,
   "metadata": {
    "collapsed": false
   },
   "outputs": [
    {
     "data": {
      "text/plain": [
       "(2500, 100)"
      ]
     },
     "execution_count": 6,
     "metadata": {},
     "output_type": "execute_result"
    }
   ],
   "source": [
    "embeddings.shape"
   ]
  },
  {
   "cell_type": "code",
   "execution_count": 7,
   "metadata": {
    "collapsed": false
   },
   "outputs": [
    {
     "data": {
      "text/plain": [
       "['UNK', 'D5', 'A4', 'E5', 'G5', 'C5', 'G4', 'D4', 'F5', 'A5']"
      ]
     },
     "execution_count": 7,
     "metadata": {},
     "output_type": "execute_result"
    }
   ],
   "source": [
    "labels[:10]"
   ]
  },
  {
   "cell_type": "code",
   "execution_count": 101,
   "metadata": {
    "collapsed": false
   },
   "outputs": [],
   "source": [
    "def gen_interesting_labels(base):\n",
    "    for i in range(12):\n",
    "        new_chord = sorted(map(lambda x: (x+i) % 12, base))\n",
    "        yield str(new_chord).replace(\" \", \"\")"
   ]
  },
  {
   "cell_type": "code",
   "execution_count": 102,
   "metadata": {
    "collapsed": false
   },
   "outputs": [],
   "source": [
    "gen_major = gen_interesting_labels([0, 4, 7])"
   ]
  },
  {
   "cell_type": "code",
   "execution_count": 103,
   "metadata": {
    "collapsed": true
   },
   "outputs": [],
   "source": [
    "majors = [x for x in gen_major if x in labels]"
   ]
  },
  {
   "cell_type": "code",
   "execution_count": 104,
   "metadata": {
    "collapsed": false
   },
   "outputs": [
    {
     "data": {
      "text/plain": [
       "['[0,4,7]',\n",
       " '[1,5,8]',\n",
       " '[2,6,9]',\n",
       " '[3,7,10]',\n",
       " '[4,8,11]',\n",
       " '[0,5,9]',\n",
       " '[1,6,10]',\n",
       " '[2,7,11]',\n",
       " '[0,3,8]',\n",
       " '[1,4,9]',\n",
       " '[2,5,10]',\n",
       " '[3,6,11]']"
      ]
     },
     "execution_count": 104,
     "metadata": {},
     "output_type": "execute_result"
    }
   ],
   "source": [
    "majors"
   ]
  },
  {
   "cell_type": "code",
   "execution_count": 113,
   "metadata": {
    "collapsed": false
   },
   "outputs": [],
   "source": [
    "tsne = TSNE(perplexity=30, n_components=2, init='pca', n_iter=5000)\n",
    "pca = PCA(n_components=2)\n",
    "\n",
    "low_dim_embs = tsne.fit_transform(embeddings)"
   ]
  },
  {
   "cell_type": "code",
   "execution_count": 114,
   "metadata": {
    "collapsed": false
   },
   "outputs": [],
   "source": [
    "majors_emb = [low_dim_embs[labels.index(l)] for l in majors]"
   ]
  },
  {
   "cell_type": "code",
   "execution_count": 115,
   "metadata": {
    "collapsed": false
   },
   "outputs": [
    {
     "data": {
      "text/plain": [
       "[array([-6.17088729, -0.36583235]),\n",
       " array([-6.68684941,  2.777555  ]),\n",
       " array([-5.4702702 , -0.69882808]),\n",
       " array([-7.14347796,  2.07427591]),\n",
       " array([-7.65004886, -1.59685044]),\n",
       " array([-6.24737837,  0.33915999]),\n",
       " array([-4.97746055, -3.47585036]),\n",
       " array([-5.11461879,  0.47082713]),\n",
       " array([-7.37698821,  3.36951418]),\n",
       " array([-7.01884124, -1.29100429]),\n",
       " array([-6.39711904,  1.18678636]),\n",
       " array([-7.12620255, -1.56928813])]"
      ]
     },
     "execution_count": 115,
     "metadata": {},
     "output_type": "execute_result"
    }
   ],
   "source": [
    "majors_emb"
   ]
  },
  {
   "cell_type": "code",
   "execution_count": 116,
   "metadata": {
    "collapsed": false
   },
   "outputs": [],
   "source": [
    "p = figure(title=\"Major triads in embedding space\")"
   ]
  },
  {
   "cell_type": "code",
   "execution_count": 117,
   "metadata": {
    "collapsed": false
   },
   "outputs": [],
   "source": [
    "xs = [xy[0] for xy in majors_emb]\n",
    "ys = [xy[1] for xy in majors_emb]"
   ]
  },
  {
   "cell_type": "code",
   "execution_count": 118,
   "metadata": {
    "collapsed": false
   },
   "outputs": [
    {
     "data": {
      "text/plain": [
       "[-0.36583235036971573,\n",
       " 2.7775550006379852,\n",
       " -0.69882808207711722,\n",
       " 2.0742759138333309,\n",
       " -1.5968504446242788,\n",
       " 0.33915998555903099,\n",
       " -3.4758503559525811,\n",
       " 0.47082713095301765,\n",
       " 3.3695141804291349,\n",
       " -1.2910042897118423,\n",
       " 1.186786359531192,\n",
       " -1.5692881264911465]"
      ]
     },
     "execution_count": 118,
     "metadata": {},
     "output_type": "execute_result"
    }
   ],
   "source": [
    "ys"
   ]
  },
  {
   "cell_type": "code",
   "execution_count": 119,
   "metadata": {
    "collapsed": false
   },
   "outputs": [
    {
     "data": {
      "text/plain": [
       "<bokeh.models.renderers.GlyphRenderer at 0x11b3916d0>"
      ]
     },
     "execution_count": 119,
     "metadata": {},
     "output_type": "execute_result"
    }
   ],
   "source": [
    "p.scatter(x=xs, y=ys)"
   ]
  },
  {
   "cell_type": "code",
   "execution_count": 120,
   "metadata": {
    "collapsed": false
   },
   "outputs": [
    {
     "data": {
      "text/html": [
       "\n",
       "\n",
       "    <div class=\"bk-root\">\n",
       "        <div class=\"plotdiv\" id=\"3e38870b-6834-410c-819e-22b1121cb9c4\"></div>\n",
       "    </div>\n",
       "<script type=\"text/javascript\">\n",
       "  \n",
       "  (function(global) {\n",
       "    function now() {\n",
       "      return new Date();\n",
       "    }\n",
       "  \n",
       "    if (typeof (window._bokeh_onload_callbacks) === \"undefined\") {\n",
       "      window._bokeh_onload_callbacks = [];\n",
       "    }\n",
       "  \n",
       "    function run_callbacks() {\n",
       "      window._bokeh_onload_callbacks.forEach(function(callback) { callback() });\n",
       "      delete window._bokeh_onload_callbacks\n",
       "      console.info(\"Bokeh: all callbacks have finished\");\n",
       "    }\n",
       "  \n",
       "    function load_libs(js_urls, callback) {\n",
       "      window._bokeh_onload_callbacks.push(callback);\n",
       "      if (window._bokeh_is_loading > 0) {\n",
       "        console.log(\"Bokeh: BokehJS is being loaded, scheduling callback at\", now());\n",
       "        return null;\n",
       "      }\n",
       "      if (js_urls == null || js_urls.length === 0) {\n",
       "        run_callbacks();\n",
       "        return null;\n",
       "      }\n",
       "      console.log(\"Bokeh: BokehJS not loaded, scheduling load and callback at\", now());\n",
       "      window._bokeh_is_loading = js_urls.length;\n",
       "      for (var i = 0; i < js_urls.length; i++) {\n",
       "        var url = js_urls[i];\n",
       "        var s = document.createElement('script');\n",
       "        s.src = url;\n",
       "        s.async = false;\n",
       "        s.onreadystatechange = s.onload = function() {\n",
       "          window._bokeh_is_loading--;\n",
       "          if (window._bokeh_is_loading === 0) {\n",
       "            console.log(\"Bokeh: all BokehJS libraries loaded\");\n",
       "            run_callbacks()\n",
       "          }\n",
       "        };\n",
       "        s.onerror = function() {\n",
       "          console.warn(\"failed to load library \" + url);\n",
       "        };\n",
       "        console.log(\"Bokeh: injecting script tag for BokehJS library: \", url);\n",
       "        document.getElementsByTagName(\"head\")[0].appendChild(s);\n",
       "      }\n",
       "    };var element = document.getElementById(\"3e38870b-6834-410c-819e-22b1121cb9c4\");\n",
       "    if (element == null) {\n",
       "      console.log(\"Bokeh: ERROR: autoload.js configured with elementid '3e38870b-6834-410c-819e-22b1121cb9c4' but no matching script tag was found. \")\n",
       "      return false;\n",
       "    }\n",
       "  \n",
       "    var js_urls = [];\n",
       "  \n",
       "    var inline_js = [\n",
       "      function(Bokeh) {\n",
       "        Bokeh.$(function() {\n",
       "            var docs_json = {\"3b01677c-cee3-4436-a838-6671f08c10f3\":{\"roots\":{\"references\":[{\"attributes\":{\"plot\":null,\"text\":\"Major triads in embedding space\"},\"id\":\"e54b6020-b994-44eb-9cdb-69fb7bb36ba2\",\"type\":\"Title\"},{\"attributes\":{\"below\":[{\"id\":\"59d07d40-7bb1-4d15-8217-96d45d88b580\",\"type\":\"LinearAxis\"}],\"left\":[{\"id\":\"0ea8c566-1c19-4b32-a922-5ac050f09a5b\",\"type\":\"LinearAxis\"}],\"renderers\":[{\"id\":\"59d07d40-7bb1-4d15-8217-96d45d88b580\",\"type\":\"LinearAxis\"},{\"id\":\"58de062b-d1a1-4c4a-864a-29c39a79f51a\",\"type\":\"Grid\"},{\"id\":\"0ea8c566-1c19-4b32-a922-5ac050f09a5b\",\"type\":\"LinearAxis\"},{\"id\":\"461c0cbc-2a33-441f-b454-5dca06be62e7\",\"type\":\"Grid\"},{\"id\":\"6293f224-83cc-4371-b515-9a9e22c807c2\",\"type\":\"BoxAnnotation\"},{\"id\":\"8d0a0c68-e709-4f9a-8bbb-52e7f07cc568\",\"type\":\"GlyphRenderer\"}],\"title\":{\"id\":\"e54b6020-b994-44eb-9cdb-69fb7bb36ba2\",\"type\":\"Title\"},\"tool_events\":{\"id\":\"663aa0be-447a-482f-8a98-7c6793f477e5\",\"type\":\"ToolEvents\"},\"toolbar\":{\"id\":\"41f4d23c-eaf8-45a3-b0ef-3b0b44ab40a2\",\"type\":\"Toolbar\"},\"x_range\":{\"id\":\"1120b40d-9b75-4d32-8115-8e89c16f4329\",\"type\":\"DataRange1d\"},\"y_range\":{\"id\":\"616adf03-5f34-4c7d-910f-0a9b790c1d4d\",\"type\":\"DataRange1d\"}},\"id\":\"52392766-705f-4c73-9b7a-d9b47a9e5e7f\",\"subtype\":\"Figure\",\"type\":\"Plot\"},{\"attributes\":{\"plot\":{\"id\":\"52392766-705f-4c73-9b7a-d9b47a9e5e7f\",\"subtype\":\"Figure\",\"type\":\"Plot\"}},\"id\":\"2cc6c718-ab03-4690-b6ed-38355ce20571\",\"type\":\"SaveTool\"},{\"attributes\":{\"overlay\":{\"id\":\"6293f224-83cc-4371-b515-9a9e22c807c2\",\"type\":\"BoxAnnotation\"},\"plot\":{\"id\":\"52392766-705f-4c73-9b7a-d9b47a9e5e7f\",\"subtype\":\"Figure\",\"type\":\"Plot\"}},\"id\":\"692d34fd-8ae8-4881-941c-af3e9f2347b7\",\"type\":\"BoxZoomTool\"},{\"attributes\":{},\"id\":\"fac128b3-6c47-487c-a99a-8ffd7ae89b0b\",\"type\":\"BasicTickFormatter\"},{\"attributes\":{\"formatter\":{\"id\":\"ff74f67d-98c6-4bbe-b66c-b24193434f4d\",\"type\":\"BasicTickFormatter\"},\"plot\":{\"id\":\"52392766-705f-4c73-9b7a-d9b47a9e5e7f\",\"subtype\":\"Figure\",\"type\":\"Plot\"},\"ticker\":{\"id\":\"b2fe28e1-187a-48f2-a2df-91f9a7724437\",\"type\":\"BasicTicker\"}},\"id\":\"0ea8c566-1c19-4b32-a922-5ac050f09a5b\",\"type\":\"LinearAxis\"},{\"attributes\":{\"data_source\":{\"id\":\"2d92c72a-4130-45da-8b48-2acfb1d7387e\",\"type\":\"ColumnDataSource\"},\"glyph\":{\"id\":\"638525d1-d381-44cf-bed1-ce4d2a3e4ae0\",\"type\":\"Circle\"},\"hover_glyph\":null,\"nonselection_glyph\":{\"id\":\"efbd9334-ad4c-4a36-ba97-13ba9fb3e6c7\",\"type\":\"Circle\"},\"selection_glyph\":null},\"id\":\"8d0a0c68-e709-4f9a-8bbb-52e7f07cc568\",\"type\":\"GlyphRenderer\"},{\"attributes\":{},\"id\":\"663aa0be-447a-482f-8a98-7c6793f477e5\",\"type\":\"ToolEvents\"},{\"attributes\":{\"active_drag\":\"auto\",\"active_scroll\":\"auto\",\"active_tap\":\"auto\",\"tools\":[{\"id\":\"d3211b6d-40ef-4153-b7a5-ed7460f0b83a\",\"type\":\"PanTool\"},{\"id\":\"3f05b4fa-2377-4d56-9409-2c625e7d4d40\",\"type\":\"WheelZoomTool\"},{\"id\":\"692d34fd-8ae8-4881-941c-af3e9f2347b7\",\"type\":\"BoxZoomTool\"},{\"id\":\"2cc6c718-ab03-4690-b6ed-38355ce20571\",\"type\":\"SaveTool\"},{\"id\":\"e0a4d6ad-4aaa-44e0-95ab-4f0aac3a63d7\",\"type\":\"ResetTool\"},{\"id\":\"c88671c0-8119-4ee2-95e3-a58d7ef0de74\",\"type\":\"HelpTool\"}]},\"id\":\"41f4d23c-eaf8-45a3-b0ef-3b0b44ab40a2\",\"type\":\"Toolbar\"},{\"attributes\":{},\"id\":\"b2fe28e1-187a-48f2-a2df-91f9a7724437\",\"type\":\"BasicTicker\"},{\"attributes\":{\"fill_alpha\":{\"value\":0.1},\"fill_color\":{\"value\":\"#1f77b4\"},\"line_alpha\":{\"value\":0.1},\"line_color\":{\"value\":\"#1f77b4\"},\"x\":{\"field\":\"x\"},\"y\":{\"field\":\"y\"}},\"id\":\"efbd9334-ad4c-4a36-ba97-13ba9fb3e6c7\",\"type\":\"Circle\"},{\"attributes\":{},\"id\":\"10a964b0-1037-47fd-be92-9a7731f5c804\",\"type\":\"BasicTicker\"},{\"attributes\":{\"formatter\":{\"id\":\"fac128b3-6c47-487c-a99a-8ffd7ae89b0b\",\"type\":\"BasicTickFormatter\"},\"plot\":{\"id\":\"52392766-705f-4c73-9b7a-d9b47a9e5e7f\",\"subtype\":\"Figure\",\"type\":\"Plot\"},\"ticker\":{\"id\":\"10a964b0-1037-47fd-be92-9a7731f5c804\",\"type\":\"BasicTicker\"}},\"id\":\"59d07d40-7bb1-4d15-8217-96d45d88b580\",\"type\":\"LinearAxis\"},{\"attributes\":{\"callback\":null},\"id\":\"1120b40d-9b75-4d32-8115-8e89c16f4329\",\"type\":\"DataRange1d\"},{\"attributes\":{\"bottom_units\":\"screen\",\"fill_alpha\":{\"value\":0.5},\"fill_color\":{\"value\":\"lightgrey\"},\"left_units\":\"screen\",\"level\":\"overlay\",\"line_alpha\":{\"value\":1.0},\"line_color\":{\"value\":\"black\"},\"line_dash\":[4,4],\"line_width\":{\"value\":2},\"plot\":null,\"render_mode\":\"css\",\"right_units\":\"screen\",\"top_units\":\"screen\"},\"id\":\"6293f224-83cc-4371-b515-9a9e22c807c2\",\"type\":\"BoxAnnotation\"},{\"attributes\":{\"dimension\":1,\"plot\":{\"id\":\"52392766-705f-4c73-9b7a-d9b47a9e5e7f\",\"subtype\":\"Figure\",\"type\":\"Plot\"},\"ticker\":{\"id\":\"b2fe28e1-187a-48f2-a2df-91f9a7724437\",\"type\":\"BasicTicker\"}},\"id\":\"461c0cbc-2a33-441f-b454-5dca06be62e7\",\"type\":\"Grid\"},{\"attributes\":{\"plot\":{\"id\":\"52392766-705f-4c73-9b7a-d9b47a9e5e7f\",\"subtype\":\"Figure\",\"type\":\"Plot\"},\"ticker\":{\"id\":\"10a964b0-1037-47fd-be92-9a7731f5c804\",\"type\":\"BasicTicker\"}},\"id\":\"58de062b-d1a1-4c4a-864a-29c39a79f51a\",\"type\":\"Grid\"},{\"attributes\":{\"plot\":{\"id\":\"52392766-705f-4c73-9b7a-d9b47a9e5e7f\",\"subtype\":\"Figure\",\"type\":\"Plot\"}},\"id\":\"e0a4d6ad-4aaa-44e0-95ab-4f0aac3a63d7\",\"type\":\"ResetTool\"},{\"attributes\":{\"callback\":null},\"id\":\"616adf03-5f34-4c7d-910f-0a9b790c1d4d\",\"type\":\"DataRange1d\"},{\"attributes\":{},\"id\":\"ff74f67d-98c6-4bbe-b66c-b24193434f4d\",\"type\":\"BasicTickFormatter\"},{\"attributes\":{\"callback\":null,\"column_names\":[\"y\",\"x\"],\"data\":{\"x\":[-6.170887294169334,-6.686849408759605,-5.470270195145102,-7.143477962442263,-7.650048860346471,-6.247378371785331,-4.977460549698618,-5.114618790602368,-7.376988208334158,-7.018841243639018,-6.397119037584775,-7.126202551610797],\"y\":[-0.36583235036971573,2.777555000637985,-0.6988280820771172,2.074275913833331,-1.5968504446242788,0.339159985559031,-3.475850355952581,0.47082713095301765,3.369514180429135,-1.2910042897118423,1.186786359531192,-1.5692881264911465]}},\"id\":\"2d92c72a-4130-45da-8b48-2acfb1d7387e\",\"type\":\"ColumnDataSource\"},{\"attributes\":{\"plot\":{\"id\":\"52392766-705f-4c73-9b7a-d9b47a9e5e7f\",\"subtype\":\"Figure\",\"type\":\"Plot\"}},\"id\":\"c88671c0-8119-4ee2-95e3-a58d7ef0de74\",\"type\":\"HelpTool\"},{\"attributes\":{\"fill_color\":{\"value\":\"#1f77b4\"},\"line_color\":{\"value\":\"#1f77b4\"},\"x\":{\"field\":\"x\"},\"y\":{\"field\":\"y\"}},\"id\":\"638525d1-d381-44cf-bed1-ce4d2a3e4ae0\",\"type\":\"Circle\"},{\"attributes\":{\"plot\":{\"id\":\"52392766-705f-4c73-9b7a-d9b47a9e5e7f\",\"subtype\":\"Figure\",\"type\":\"Plot\"}},\"id\":\"3f05b4fa-2377-4d56-9409-2c625e7d4d40\",\"type\":\"WheelZoomTool\"},{\"attributes\":{\"plot\":{\"id\":\"52392766-705f-4c73-9b7a-d9b47a9e5e7f\",\"subtype\":\"Figure\",\"type\":\"Plot\"}},\"id\":\"d3211b6d-40ef-4153-b7a5-ed7460f0b83a\",\"type\":\"PanTool\"}],\"root_ids\":[\"52392766-705f-4c73-9b7a-d9b47a9e5e7f\"]},\"title\":\"Bokeh Application\",\"version\":\"0.12.0\"}};\n",
       "            var render_items = [{\"docid\":\"3b01677c-cee3-4436-a838-6671f08c10f3\",\"elementid\":\"3e38870b-6834-410c-819e-22b1121cb9c4\",\"modelid\":\"52392766-705f-4c73-9b7a-d9b47a9e5e7f\",\"notebook_comms_target\":\"5a435c44-8f6b-420d-9198-3b19a2ee55cb\"}];\n",
       "            \n",
       "            Bokeh.embed.embed_items(docs_json, render_items);\n",
       "        });\n",
       "      },\n",
       "      function(Bokeh) {\n",
       "      }\n",
       "    ];\n",
       "  \n",
       "    function run_inline_js() {\n",
       "      for (var i = 0; i < inline_js.length; i++) {\n",
       "        inline_js[i](window.Bokeh);\n",
       "      }\n",
       "    }\n",
       "  \n",
       "    if (window._bokeh_is_loading === 0) {\n",
       "      console.log(\"Bokeh: BokehJS loaded, going straight to plotting\");\n",
       "      run_inline_js();\n",
       "    } else {\n",
       "      load_libs(js_urls, function() {\n",
       "        console.log(\"Bokeh: BokehJS plotting callback run at\", now());\n",
       "        run_inline_js();\n",
       "      });\n",
       "    }\n",
       "  }(this));\n",
       "</script>"
      ]
     },
     "metadata": {},
     "output_type": "display_data"
    },
    {
     "data": {
      "text/html": [
       "<p><code>&lt;Bokeh Notebook handle for <strong>In[32]</strong>&gt;</code></p>"
      ],
      "text/plain": [
       "<bokeh.io._CommsHandle at 0x11b391810>"
      ]
     },
     "execution_count": 120,
     "metadata": {},
     "output_type": "execute_result"
    }
   ],
   "source": [
    "show(p)"
   ]
  },
  {
   "cell_type": "code",
   "execution_count": null,
   "metadata": {
    "collapsed": true
   },
   "outputs": [],
   "source": []
  }
 ],
 "metadata": {
  "kernelspec": {
   "display_name": "Python 3",
   "language": "python",
   "name": "python3"
  }
 },
 "nbformat": 4,
 "nbformat_minor": 0
}
