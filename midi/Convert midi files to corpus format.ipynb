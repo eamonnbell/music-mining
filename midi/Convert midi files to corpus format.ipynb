{
 "cells": [
  {
   "cell_type": "code",
   "execution_count": 5,
   "metadata": {
    "collapsed": true
   },
   "outputs": [],
   "source": [
    "import pretty_midi\n",
    "import glob\n",
    "import random\n",
    "import json"
   ]
  },
  {
   "cell_type": "code",
   "execution_count": 6,
   "metadata": {
    "collapsed": true
   },
   "outputs": [],
   "source": [
    "import fnmatch\n",
    "import os\n",
    "\n",
    "file_paths = []\n",
    "\n",
    "for root, dirnames, filenames in os.walk('data'):\n",
    "    for filename in fnmatch.filter(filenames, '*.mid'):\n",
    "        file_paths.append(os.path.join(root, filename))"
   ]
  },
  {
   "cell_type": "code",
   "execution_count": 7,
   "metadata": {
    "collapsed": true
   },
   "outputs": [],
   "source": [
    "from multiprocessing.dummy import Pool as ThreadPool "
   ]
  },
  {
   "cell_type": "code",
   "execution_count": 78,
   "metadata": {
    "collapsed": false
   },
   "outputs": [],
   "source": [
    "random.shuffle(file_paths)"
   ]
  },
  {
   "cell_type": "code",
   "execution_count": 79,
   "metadata": {
    "collapsed": false
   },
   "outputs": [
    {
     "data": {
      "text/plain": [
       "17256"
      ]
     },
     "execution_count": 79,
     "metadata": {},
     "output_type": "execute_result"
    }
   ],
   "source": [
    "len(file_paths)"
   ]
  },
  {
   "cell_type": "code",
   "execution_count": 9,
   "metadata": {
    "collapsed": false
   },
   "outputs": [],
   "source": [
    "id_and_fp = list(enumerate(file_paths))"
   ]
  },
  {
   "cell_type": "code",
   "execution_count": 10,
   "metadata": {
    "collapsed": false
   },
   "outputs": [],
   "source": [
    "pool = ThreadPool(4)"
   ]
  },
  {
   "cell_type": "code",
   "execution_count": 11,
   "metadata": {
    "collapsed": false
   },
   "outputs": [],
   "source": [
    "def worker(id_and_fp):\n",
    "    outfile, fpath = id_and_fp\n",
    "    try:\n",
    "        pm = pretty_midi.PrettyMIDI(midi_file=fpath)\n",
    "    except:\n",
    "        return \"Failed\"\n",
    "\n",
    "    chro = pm.get_chroma()\n",
    "    chro = chro.astype(bool)\n",
    "    rows = []\n",
    "\n",
    "    last_added = []\n",
    "    for row in chro.T:\n",
    "        if list(row) != last_added:\n",
    "            rows.append(list(row))\n",
    "            last_added = list(row)\n",
    "    \n",
    "    def row_to_str(row):\n",
    "        return \"\".join(['0' if j == False else '1' for j in row])\n",
    "    \n",
    "    rows_str = [row_to_str(r) for r in rows]\n",
    "    \n",
    "    obj = {\n",
    "        \"path\" : fpath,\n",
    "        \"rows\" : rows_str\n",
    "    }\n",
    "    \n",
    "    with open('{}.json'.format(outfile), 'w') as jf:\n",
    "        json.dump(obj, jf)\n",
    "    \n",
    "    return \"Success\""
   ]
  },
  {
   "cell_type": "code",
   "execution_count": 12,
   "metadata": {
    "collapsed": false
   },
   "outputs": [],
   "source": [
    "results = pool.map(worker, id_and_fp)"
   ]
  }
 ],
 "metadata": {
  "kernelspec": {
   "display_name": "Python 2",
   "language": "python",
   "name": "python2"
  },
  "language_info": {
   "codemirror_mode": {
    "name": "ipython",
    "version": 2
   },
   "file_extension": ".py",
   "mimetype": "text/x-python",
   "name": "python",
   "nbconvert_exporter": "python",
   "pygments_lexer": "ipython2",
   "version": "2.7.12"
  }
 },
 "nbformat": 4,
 "nbformat_minor": 1
}
