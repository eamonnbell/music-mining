{
 "cells": [
  {
   "cell_type": "code",
   "execution_count": 82,
   "metadata": {},
   "outputs": [],
   "source": [
    "import gensim\n",
    "\n",
    "import music21\n",
    "import numpy as np\n",
    "import matplotlib.pyplot as plt\n",
    "import functools\n",
    "import glob\n",
    "import word2vec\n",
    "\n",
    "from sklearn.decomposition import PCA\n",
    "from sklearn.metrics.pairwise import cosine_similarity\n",
    "\n",
    "from glove import Glove\n",
    "from glove import Corpus\n",
    "\n",
    "from collections import Counter\n",
    "\n",
    "import timeit"
   ]
  },
  {
   "cell_type": "code",
   "execution_count": 59,
   "metadata": {},
   "outputs": [],
   "source": [
    "@functools.lru_cache(maxsize=None)\n",
    "def c_to_strep(c):\n",
    "    rep = \"\"\n",
    "    for i in range(12):\n",
    "        if i in c.pitchClasses:\n",
    "            rep += \"1\"\n",
    "        else:\n",
    "            rep += \"0\"\n",
    "    return rep\n",
    "\n",
    "@functools.lru_cache(maxsize=None)\n",
    "def strep_to_c(strep):\n",
    "    pcs = []\n",
    "    for i, v in enumerate(strep):\n",
    "        if v == '1':\n",
    "            pcs.append(i)\n",
    "    return music21.chord.Chord(pcs)\n",
    "\n",
    "def transpose_to_all(c):\n",
    "    out = []\n",
    "    old = c\n",
    "    for i in range(12):\n",
    "        new = old.transpose(7)\n",
    "        out.append(new)\n",
    "        old = new\n",
    "    return out"
   ]
  },
  {
   "cell_type": "code",
   "execution_count": 273,
   "metadata": {
    "collapsed": true
   },
   "outputs": [],
   "source": [
    "def read_data(filename):\n",
    "    with open(filename, 'r') as f:\n",
    "        data = [l for l in f.read().split(' ') if l != '']\n",
    "    return data"
   ]
  },
  {
   "cell_type": "code",
   "execution_count": 275,
   "metadata": {
    "collapsed": true
   },
   "outputs": [],
   "source": [
    "def train_google(path_to_corpus,cbow=0):\n",
    "    word2vec.word2vec(path_to_corpus,output='google.bin',size=EMBEDDING_SIZE,window=CONTEXT_WINDOW,\n",
    "                      min_count=MIN_COUNT,sample=0,cbow=cbow)\n",
    "    model = word2vec.load('google.bin')\n",
    "    l = list(model.vocab)\n",
    "    e = model.vectors\n",
    "    return e, l"
   ]
  },
  {
   "cell_type": "code",
   "execution_count": 326,
   "metadata": {},
   "outputs": [],
   "source": [
    "def collect_rand_walk(name):\n",
    "    basepath = '/home/eamonn/Projects/SemanticVector/examples/vector_result/'\n",
    "    with open(basepath+'{}.txt'.format(name)) as f:\n",
    "        lines = f.readlines()\n",
    "    \n",
    "    l = [l.split(' ')[0] for l in lines]\n",
    "    a = np.loadtxt(basepath+'{}_rw_vectors.txt'.format(name))\n",
    "    e = a[:,1:]\n",
    "    return e, l"
   ]
  },
  {
   "cell_type": "code",
   "execution_count": 327,
   "metadata": {},
   "outputs": [],
   "source": [
    "def filter_tokens(tokens, min_count):\n",
    "    c = Counter(tokens)\n",
    "    filtered = {k: v for k, v in dict(c).items() if v >= min_count}.keys()\n",
    "    return [t for t in tokens if t in filtered]\n",
    "    \n",
    "def train_glove(tokens):    \n",
    "    filtered_tokens = filter_tokens(tokens, min_count=MIN_COUNT)\n",
    "    \n",
    "    corpus_model = Corpus()\n",
    "    corpus_model.fit([filtered_tokens], window=CONTEXT_WINDOW)\n",
    "\n",
    "    glove = Glove(no_components=EMBEDDING_SIZE, learning_rate=0.05)\n",
    "    glove.fit(corpus_model.matrix, epochs=150,\n",
    "              no_threads=4, verbose=False)\n",
    "    glove.add_dictionary(corpus_model.dictionary)\n",
    "\n",
    "    l = list(glove.dictionary.keys())\n",
    "    e = np.array([glove.word_vectors[glove.dictionary[label]] for label in l])\n",
    "    return e, l, glove"
   ]
  },
  {
   "cell_type": "code",
   "execution_count": 328,
   "metadata": {},
   "outputs": [],
   "source": [
    "def scatter_only(embeddings,labels,to_plot,color='black',n_components=2,x_component=0, y_component=1,marker='o'):\n",
    "    to_plot_indices = [labels.index(strep) for strep in to_plot]\n",
    "    pca = PCA(n_components=n_components)\n",
    "    proj = pca.fit_transform(embeddings)\n",
    "    subset = proj[to_plot_indices]\n",
    "    plt.scatter(subset[:,x_component], subset[:,y_component],color=color,marker=marker)\n",
    "\n",
    "def connectors(embeddings,labels,line_origin,line_destination,color='black',n_components=2,x_component=0, y_component=1):\n",
    "    origin_indices = [labels.index(strep) for strep in line_origin]\n",
    "    destination_indices = [labels.index(strep) for strep in line_destination]\n",
    "    pca = PCA(n_components=n_components)\n",
    "    proj = pca.fit_transform(embeddings)\n",
    "    \n",
    "    origin_subset = proj[origin_indices]\n",
    "    destination_subset = proj[destination_indices]\n",
    "    \n",
    "    for o, d in zip(origin_subset, destination_subset):\n",
    "        plt.plot([o[x_component], d[x_component]], [o[y_component], d[y_component]],\n",
    "                 linestyle='--',color=color)"
   ]
  },
  {
   "cell_type": "code",
   "execution_count": 329,
   "metadata": {},
   "outputs": [],
   "source": [
    "def all_examples(pitches):\n",
    "    c = music21.chord.Chord(pitches)\n",
    "    all_ = transpose_to_all(c)\n",
    "    all_strep = [c_to_strep(c) for c in all_]\n",
    "    return all_strep"
   ]
  },
  {
   "cell_type": "markdown",
   "metadata": {},
   "source": [
    "# Parameters"
   ]
  },
  {
   "cell_type": "code",
   "execution_count": 451,
   "metadata": {},
   "outputs": [],
   "source": [
    "EMBEDDING_SIZE = 100\n",
    "CONTEXT_WINDOW = 5\n",
    "MIN_COUNT = 5\n",
    "CORPUS = 'billboard'"
   ]
  },
  {
   "cell_type": "code",
   "execution_count": 452,
   "metadata": {},
   "outputs": [],
   "source": [
    "path_to_corpus = '../../corpuscule/ycac/corpus/{}.corpus'.format(CORPUS)\n",
    "tokens = read_data(path_to_corpus)\n",
    "# tokens = read_data('../tf/lite.corpus')"
   ]
  },
  {
   "cell_type": "code",
   "execution_count": 453,
   "metadata": {},
   "outputs": [],
   "source": [
    "wce, wcl = train_google(path_to_corpus,cbow=1)"
   ]
  },
  {
   "cell_type": "code",
   "execution_count": 454,
   "metadata": {},
   "outputs": [
    {
     "data": {
      "text/plain": [
       "124895"
      ]
     },
     "execution_count": 454,
     "metadata": {},
     "output_type": "execute_result"
    }
   ],
   "source": [
    "len(tokens)"
   ]
  },
  {
   "cell_type": "code",
   "execution_count": 418,
   "metadata": {
    "collapsed": true
   },
   "outputs": [],
   "source": [
    "wse, wsl = train_google(path_to_corpus,cbow=0)"
   ]
  },
  {
   "cell_type": "code",
   "execution_count": 419,
   "metadata": {},
   "outputs": [],
   "source": [
    "ge, gl, glove_model = train_glove(tokens)"
   ]
  },
  {
   "cell_type": "code",
   "execution_count": 420,
   "metadata": {},
   "outputs": [],
   "source": [
    "re, rl = collect_rand_walk('{}.corpus'.format(CORPUS))"
   ]
  },
  {
   "cell_type": "code",
   "execution_count": 421,
   "metadata": {},
   "outputs": [
    {
     "data": {
      "text/plain": [
       "((1001, 100), (1001, 100), (1000, 100), (1000, 100))"
      ]
     },
     "execution_count": 421,
     "metadata": {},
     "output_type": "execute_result"
    }
   ],
   "source": [
    "wce.shape, wse.shape, ge.shape, re.shape"
   ]
  },
  {
   "cell_type": "markdown",
   "metadata": {},
   "source": [
    "### Are the vectors normalized?"
   ]
  },
  {
   "cell_type": "code",
   "execution_count": 388,
   "metadata": {},
   "outputs": [
    {
     "name": "stdout",
     "output_type": "stream",
     "text": [
      "1.00000000007\n",
      "1.00000000249\n",
      "1.9017885906\n",
      "1.3646483156\n"
     ]
    }
   ],
   "source": [
    "for e, l in [(wce, wcl), (wse, wsl), (ge, gl), (re, rl)]:\n",
    "    norms = [np.linalg.norm(v) for v in e]\n",
    "    print(np.mean(norms))"
   ]
  },
  {
   "cell_type": "code",
   "execution_count": 389,
   "metadata": {
    "scrolled": true
   },
   "outputs": [
    {
     "data": {
      "image/png": "[encoded data removed]",
      "text/plain": [
       "<matplotlib.figure.Figure at 0x7f4fcbb90ef0>"
      ]
     },
     "metadata": {},
     "output_type": "display_data"
    },
    {
     "data": {
      "image/png": "[encoded data removed]",
      "text/plain": [
       "<matplotlib.figure.Figure at 0x7f4fd1136470>"
      ]
     },
     "metadata": {},
     "output_type": "display_data"
    },
    {
     "data": {
      "image/png": "[encoded data removed]",
      "text/plain": [
       "<matplotlib.figure.Figure at 0x7f4fd2456c50>"
      ]
     },
     "metadata": {},
     "output_type": "display_data"
    },
    {
     "data": {
      "image/png": "[encoded data removed]",
      "text/plain": [
       "<matplotlib.figure.Figure at 0x7f4fca4ee080>"
      ]
     },
     "metadata": {},
     "output_type": "display_data"
    }
   ],
   "source": [
    "for e, l in [(wce, wcl), (wse, wsl), (ge, gl), (re, rl)]:\n",
    "    n_components = 2\n",
    "    x_component = 0\n",
    "    y_component = 1\n",
    "    \n",
    "    A = 'G B D F'\n",
    "    B = 'C E G'\n",
    "    \n",
    "    scatter_only(e, l, all_examples(A),color='blue',n_components=n_components,\n",
    "                x_component=x_component,y_component=y_component)\n",
    "    scatter_only(e, l, all_examples(B),color='red',n_components=n_components,\n",
    "                x_component=x_component,y_component=y_component)\n",
    "    #scatter_only(e, l, all_examples('G B- D F '),color='green')\n",
    "    connectors(e, l, all_examples(A), all_examples(B),n_components=n_components,\n",
    "                x_component=x_component,y_component=y_component)\n",
    "    #plt.xlim([-2,2])\n",
    "    #plt.ylim([-2,2])\n",
    "\n",
    "    plt.show()\n",
    "    plt.close()"
   ]
  },
  {
   "cell_type": "code",
   "execution_count": 390,
   "metadata": {},
   "outputs": [],
   "source": [
    "plt.close()"
   ]
  },
  {
   "cell_type": "code",
   "execution_count": 391,
   "metadata": {
    "collapsed": true
   },
   "outputs": [],
   "source": [
    "def scatter_only_3d(embeddings,labels,to_plot,color='black'):\n",
    "    to_plot_indices = [labels.index(strep) for strep in to_plot]\n",
    "    pca = PCA(n_components=3)\n",
    "    proj = pca.fit_transform(embeddings)\n",
    "    subset = proj[to_plot_indices]\n",
    "    ax.scatter(subset[:,0], subset[:,1],subset[:,2],color=color)"
   ]
  },
  {
   "cell_type": "markdown",
   "metadata": {
    "collapsed": true
   },
   "source": [
    "## Evaluating model performance on analogy task"
   ]
  },
  {
   "cell_type": "code",
   "execution_count": 392,
   "metadata": {
    "collapsed": true
   },
   "outputs": [],
   "source": [
    "def load_analogies(fn):\n",
    "    with open(fn, 'r') as f:\n",
    "        analogies = [l.strip().split('\\t') for l in f.readlines()]\n",
    "    return analogies"
   ]
  },
  {
   "cell_type": "code",
   "execution_count": 393,
   "metadata": {
    "collapsed": true
   },
   "outputs": [],
   "source": [
    "def pairdirection(v_a, v_a_star,v_b,v_b_star):\n",
    "    return float(cosine_similarity((v_b_star-v_b),(v_a_star-v_a)))"
   ]
  },
  {
   "cell_type": "code",
   "execution_count": 394,
   "metadata": {
    "collapsed": true
   },
   "outputs": [],
   "source": [
    "def cosadd3(v_a,v_a_star,v_b,v_b_star):\n",
    "    \"\"\"COSADD3 = cos(b*,b) - cos(b*,a) + cos(b*,a*)\"\"\"\n",
    "    return float(cosine_similarity(v_b_star, v_b) - cosine_similarity(v_b_star, v_a) + cosine_similarity(v_b_star,v_a_star))"
   ]
  },
  {
   "cell_type": "code",
   "execution_count": 395,
   "metadata": {
    "collapsed": true
   },
   "outputs": [],
   "source": [
    "def cosmul3(v_a,v_a_star,v_b,v_b_star,epsilon=0.0001,debug=False):\n",
    "    \"\"\"COSMUL3 = cos(b*,b)cos(b*,a*)/(cos(b*,a) + epsilon)\n",
    "               = PQ/(R+e)\n",
    "    P,Q,R are all transformed versions of each term so that they fit on [0,1]\"\"\"\n",
    "    \n",
    "    def transform(sim):\n",
    "        return (sim + 1)/2\n",
    "    \n",
    "    P = transform(cosine_similarity(v_b_star,v_b))\n",
    "    Q = transform(cosine_similarity(v_b_star,v_a_star))\n",
    "    R = transform(cosine_similarity(v_b_star, v_a))\n",
    "    \n",
    "        \n",
    "    if debug:\n",
    "        print(\"P:{} Q:{} P*Q:{} R:{}\".format(P, Q, P*Q, R))\n",
    "        \n",
    "    return float((P*Q)/(R + epsilon))"
   ]
  },
  {
   "cell_type": "code",
   "execution_count": 396,
   "metadata": {},
   "outputs": [
    {
     "data": {
      "text/plain": [
       "132"
      ]
     },
     "execution_count": 396,
     "metadata": {},
     "output_type": "execute_result"
    }
   ],
   "source": [
    "len(analogies)"
   ]
  },
  {
   "cell_type": "code",
   "execution_count": 397,
   "metadata": {},
   "outputs": [],
   "source": [
    "def predict_analogy(e,l,a,a_star,b,objective,top_n=1):\n",
    "    v_a = e[l.index(a)].reshape(1, -1)\n",
    "    v_a_star = e[l.index(a_star)].reshape(1, -1)\n",
    "    v_b = e[l.index(b)].reshape(1, -1)\n",
    "    \n",
    "    results = {}\n",
    "    for i, v_b_star in enumerate(e):\n",
    "        results[i] = objective(v_a,v_a_star,v_b,v_b_star.reshape(1, -1))\n",
    "    \n",
    "    sorted_results = sorted(results,key=results.get,reverse=True)\n",
    "    result = [l[i] for i in sorted_results[:top_n]]\n",
    "    \n",
    "    return result"
   ]
  },
  {
   "cell_type": "code",
   "execution_count": 445,
   "metadata": {
    "collapsed": true
   },
   "outputs": [],
   "source": [
    "def evaluate_model_providing_rankings(e, l, analogies,objective,g=lambda x:x):\n",
    "    ranks = []\n",
    "    filtered_ranks = []\n",
    "    for analogy in analogies:\n",
    "        a,a_star,b,actual = analogy\n",
    "        top_n = e.shape[0]\n",
    "        ranked_predictions = predict_analogy(e,l,a,a_star,b,\n",
    "                                             objective=objective,\n",
    "                                             top_n=top_n)\n",
    "        \n",
    "        filtered_ranked_predictions = list(filter(g, ranked_predictions))\n",
    "        \n",
    "        ranks.append(ranked_predictions.index(actual))\n",
    "        filtered_ranks.append(filtered_ranked_predictions.index(actual))\n",
    "    return ranks, filtered_ranks"
   ]
  },
  {
   "cell_type": "code",
   "execution_count": 446,
   "metadata": {},
   "outputs": [],
   "source": [
    "def is_major_triad(strep):\n",
    "    try:\n",
    "        c = strep_to_c(strep)\n",
    "        cn = c.commonName\n",
    "        if 'major triad' in cn:\n",
    "            return True\n",
    "        else:\n",
    "            return False\n",
    "    except:\n",
    "        False"
   ]
  },
  {
   "cell_type": "code",
   "execution_count": 447,
   "metadata": {},
   "outputs": [],
   "source": [
    "def score(e,l,analogies,objective):\n",
    "    rankings, filtered_rankings = evaluate_model_providing_rankings(e, l, analogies,\n",
    "                                                                    objective=objective,g=is_major_triad)\n",
    "    rankings_array = np.array(rankings)\n",
    "    \n",
    "    def p_at(a,n): \n",
    "        return sum(a < n) / len(a)\n",
    "    print('--------')\n",
    "    print('open vocabulary')\n",
    "    print('\\tp@1={:.4f}\\tp@3={:.4f}\\tp@5={:.4f}\\tp@10={:.4f}'.format(p_at(rankings_array,1), \n",
    "                                                                    p_at(rankings_array,3), \n",
    "                                                                    p_at(rankings_array,5), \n",
    "                                                                    p_at(rankings_array,10)))\n",
    "    \n",
    "    filtered_rankings_array = np.array(filtered_rankings)\n",
    "    print('--------')\n",
    "    print('closed vocabulary (major triads)')\n",
    "    print('\\tp@1={:.4f}\\tp@3={:.4f}\\tp@5={:.4f}\\tp@10={:.4f}'.format(p_at(filtered_rankings_array,1), \n",
    "                                                                    p_at(filtered_rankings_array,3), \n",
    "                                                                    p_at(filtered_rankings_array,5), \n",
    "                                                                    p_at(filtered_rankings_array,10)))\n",
    "    return p_at(filtered_rankings_array,1)"
   ]
  },
  {
   "cell_type": "code",
   "execution_count": 448,
   "metadata": {
    "scrolled": true
   },
   "outputs": [
    {
     "name": "stdout",
     "output_type": "stream",
     "text": [
      "results of analogy reconstruction\n",
      "analogy set 'analogies_D1T1D2T2.eval'\n",
      "========\n",
      "model: word2vec_sg (3CosMul objective)\n",
      "--------\n",
      "open vocabulary\n",
      "\tp@1=0.0000\tp@3=0.0000\tp@5=0.0000\tp@10=0.0000\n",
      "--------\n",
      "closed vocabulary (major triads)\n",
      "\tp@1=0.0909\tp@3=0.7576\tp@5=0.9470\tp@10=1.0000\n",
      "========\n",
      "model: word2vec_cbow (3CosMul objective)\n",
      "--------\n",
      "open vocabulary\n",
      "\tp@1=0.0076\tp@3=0.0076\tp@5=0.0227\tp@10=0.0530\n",
      "--------\n",
      "closed vocabulary (major triads)\n",
      "\tp@1=0.1894\tp@3=0.8939\tp@5=0.9924\tp@10=1.0000\n",
      "========\n",
      "model: glove (3CosMul objective)\n",
      "--------\n",
      "open vocabulary\n",
      "\tp@1=0.0000\tp@3=0.0227\tp@5=0.0682\tp@10=0.2576\n",
      "--------\n",
      "closed vocabulary (major triads)\n",
      "\tp@1=0.2348\tp@3=0.8712\tp@5=0.9697\tp@10=1.0000\n",
      "========\n",
      "model: RAND-WALK (3CosMul objective)\n",
      "--------\n",
      "open vocabulary\n",
      "\tp@1=0.0152\tp@3=0.0379\tp@5=0.0985\tp@10=0.2727\n",
      "--------\n",
      "closed vocabulary (major triads)\n",
      "\tp@1=0.1818\tp@3=0.9470\tp@5=0.9773\tp@10=1.0000\n",
      "CPU times: user 3min 2s, sys: 1.27 s, total: 3min 3s\n",
      "Wall time: 3min 2s\n"
     ]
    }
   ],
   "source": [
    "%%time\n",
    "analogies = load_analogies('analogies_D1T1D2T2.eval')\n",
    "print(\"results of analogy reconstruction\")\n",
    "print(\"analogy set 'analogies_D1T1D2T2.eval'\")\n",
    "for model_name, test_embedding, test_labels in [('word2vec_sg',wse, wsl), \n",
    "                                                ('word2vec_cbow',wce, wcl), \n",
    "                                                ('glove',ge, gl),\n",
    "                                                ('RAND-WALK',re, rl),\n",
    "                                                ]:\n",
    "    print(\"========\")\n",
    "    print(\"model: {} (3CosMul objective)\".format(model_name))\n",
    "    score(test_embedding, test_labels, analogies=analogies, objective=cosmul3)\n",
    "    #print(\"model: {} (3CosAdd objective)\".format(model_name))\n",
    "    #score(test_embedding, test_labels, analogies=analogies, objective=cosadd3)\n",
    "    #print(\"model: {} (PairDirection objective)\".format(model_name))\n",
    "    #score(test_embedding, test_labels, analogies=analogies, objective=pairdirection)"
   ]
  },
  {
   "cell_type": "markdown",
   "metadata": {},
   "source": [
    "## Failure to solve analogies"
   ]
  },
  {
   "cell_type": "code",
   "execution_count": 171,
   "metadata": {},
   "outputs": [],
   "source": [
    "import random"
   ]
  },
  {
   "cell_type": "code",
   "execution_count": 172,
   "metadata": {
    "collapsed": true
   },
   "outputs": [],
   "source": [
    "def strep_to_human(strep):\n",
    "    return strep_to_c(strep).root().name + \" \" + strep_to_c(strep).commonName"
   ]
  },
  {
   "cell_type": "code",
   "execution_count": 177,
   "metadata": {},
   "outputs": [
    {
     "data": {
      "text/plain": [
       "(1, 100)"
      ]
     },
     "execution_count": 177,
     "metadata": {},
     "output_type": "execute_result"
    }
   ],
   "source": [
    "ge[0].reshape(1, -1).shape"
   ]
  },
  {
   "cell_type": "code",
   "execution_count": 221,
   "metadata": {
    "collapsed": true
   },
   "outputs": [
    {
     "name": "stdout",
     "output_type": "stream",
     "text": [
      "D dominant seventh chord D dominant seventh chord G major triad G major triad\n",
      "computer said G major triad; needed G major triad\n",
      "D dominant seventh chord D# dominant seventh chord G major triad A- major triad\n",
      "computer said A- major triad; needed A- major triad\n",
      "D dominant seventh chord C dominant seventh chord G major triad F major triad\n",
      "computer said F major triad; needed F major triad\n",
      "A dominant seventh chord A dominant seventh chord D major triad D major triad\n",
      "computer said D major triad; needed D major triad\n",
      "A dominant seventh chord B- dominant seventh chord D major triad E- major triad\n",
      "computer said E- major triad; needed E- major triad\n",
      "A dominant seventh chord G dominant seventh chord D major triad C major triad\n",
      "computer said C major triad; needed C major triad\n",
      "E dominant seventh chord E dominant seventh chord A major triad A major triad\n",
      "computer said A major triad; needed A major triad\n",
      "E dominant seventh chord B- dominant seventh chord A major triad E- major triad\n",
      "computer said E- major triad; needed E- major triad\n",
      "F# dominant seventh chord F# dominant seventh chord E major triad E major triad\n",
      "computer said E major triad; needed E major triad\n",
      "F# dominant seventh chord F# dominant seventh chord C- major triad C- major triad\n",
      "computer said C- major triad; needed C- major triad\n",
      "F# dominant seventh chord D# dominant seventh chord C- major triad A- major triad\n",
      "computer said A- major triad; needed A- major triad\n",
      "C# dominant seventh chord C# dominant seventh chord F# major triad F# major triad\n",
      "computer said F# major triad; needed F# major triad\n",
      "C# dominant seventh chord D# dominant seventh chord F# major triad A- major triad\n",
      "computer said A- major triad; needed A- major triad\n",
      "C# dominant seventh chord F dominant seventh chord F# major triad B- major triad\n",
      "computer said B- major triad; needed B- major triad\n",
      "C# dominant seventh chord C dominant seventh chord F# major triad F major triad\n",
      "computer said F major triad; needed F major triad\n",
      "C# dominant seventh chord G dominant seventh chord F# major triad C major triad\n",
      "computer said C major triad; needed C major triad\n",
      "A- dominant seventh chord F# dominant seventh chord C# major triad C- major triad\n",
      "computer said C- major triad; needed C- major triad\n",
      "A- dominant seventh chord A- dominant seventh chord C# major triad C# major triad\n",
      "computer said C# major triad; needed C# major triad\n",
      "A- dominant seventh chord D# dominant seventh chord C# major triad A- major triad\n",
      "computer said A- major triad; needed A- major triad\n",
      "A- dominant seventh chord F dominant seventh chord C# major triad B- major triad\n",
      "computer said B- major triad; needed B- major triad\n",
      "A- dominant seventh chord G dominant seventh chord C# major triad C major triad\n",
      "computer said C major triad; needed C major triad\n",
      "D# dominant seventh chord D dominant seventh chord A- major triad G major triad\n",
      "computer said G major triad; needed G major triad\n",
      "D# dominant seventh chord A- dominant seventh chord A- major triad C# major triad\n",
      "computer said C# major triad; needed C# major triad\n",
      "D# dominant seventh chord D# dominant seventh chord A- major triad A- major triad\n",
      "computer said A- major triad; needed A- major triad\n",
      "D# dominant seventh chord B- dominant seventh chord A- major triad E- major triad\n",
      "computer said E- major triad; needed E- major triad\n",
      "B- dominant seventh chord E dominant seventh chord E- major triad A major triad\n",
      "computer said A major triad; needed A major triad\n",
      "B- dominant seventh chord A- dominant seventh chord E- major triad C# major triad\n",
      "computer said C# major triad; needed C# major triad\n",
      "B- dominant seventh chord D# dominant seventh chord E- major triad A- major triad\n",
      "computer said A- major triad; needed A- major triad\n",
      "B- dominant seventh chord B- dominant seventh chord E- major triad E- major triad\n",
      "computer said E- major triad; needed E- major triad\n",
      "F dominant seventh chord E dominant seventh chord B- major triad A major triad\n",
      "computer said A major triad; needed A major triad\n",
      "F dominant seventh chord F# dominant seventh chord B- major triad E major triad\n",
      "computer said E major triad; needed E major triad\n",
      "F dominant seventh chord F# dominant seventh chord B- major triad C- major triad\n",
      "computer said C- major triad; needed C- major triad\n",
      "F dominant seventh chord F dominant seventh chord B- major triad B- major triad\n",
      "computer said B- major triad; needed B- major triad\n",
      "F dominant seventh chord C dominant seventh chord B- major triad F major triad\n",
      "computer said F major triad; needed F major triad\n",
      "C dominant seventh chord D dominant seventh chord F major triad G major triad\n",
      "computer said G major triad; needed G major triad\n",
      "C dominant seventh chord F# dominant seventh chord F major triad E major triad\n",
      "computer said E major triad; needed E major triad\n",
      "C dominant seventh chord F dominant seventh chord F major triad B- major triad\n",
      "computer said B- major triad; needed B- major triad\n",
      "C dominant seventh chord C dominant seventh chord F major triad F major triad\n",
      "computer said F major triad; needed F major triad\n",
      "G dominant seventh chord A dominant seventh chord C major triad D major triad\n",
      "computer said D major triad; needed D major triad\n",
      "G dominant seventh chord F# dominant seventh chord C major triad C- major triad\n",
      "computer said C- major triad; needed C- major triad\n",
      "G dominant seventh chord A- dominant seventh chord C major triad C# major triad\n",
      "computer said C# major triad; needed C# major triad\n",
      "G dominant seventh chord G dominant seventh chord C major triad C major triad\n",
      "computer said C major triad; needed C major triad\n"
     ]
    }
   ],
   "source": [
    "for analogy in analogies:\n",
    "    a, a_star, b, actual = analogy\n",
    "    things = (a, a_star, b, actual)\n",
    "    human_things = [strep_to_human(strep) for strep in things]\n",
    "\n",
    "    proposals = predict_analogy(re,rl,a,a_star,b,cosmul3,top_n=2)\n",
    "    proposal = proposals[0]\n",
    "    if actual == proposal:\n",
    "        print(\" \".join(human_things))\n",
    "        print(\"computer said {}; needed {}\".format(strep_to_human(proposal), \n",
    "                                                      strep_to_human(actual)))"
   ]
  }
 ],
 "metadata": {
  "kernelspec": {
   "display_name": "Python 3 (ipykernel)",
   "language": "python",
   "name": "python3"
  },
  "language_info": {
   "codemirror_mode": {
    "name": "ipython",
    "version": 3
   },
   "file_extension": ".py",
   "mimetype": "text/x-python",
   "name": "python",
   "nbconvert_exporter": "python",
   "pygments_lexer": "ipython3",
   "version": "3.9.7"
  }
 },
 "nbformat": 4,
 "nbformat_minor": 2
}
