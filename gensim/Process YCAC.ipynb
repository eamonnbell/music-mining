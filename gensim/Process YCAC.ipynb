{
 "cells": [
  {
   "cell_type": "code",
   "execution_count": 1,
   "metadata": {
    "collapsed": false
   },
   "outputs": [],
   "source": [
    "import pandas as pd\n",
    "import json\n",
    "\n",
    "import functools"
   ]
  },
  {
   "cell_type": "code",
   "execution_count": 2,
   "metadata": {
    "collapsed": true
   },
   "outputs": [],
   "source": [
    "fns = ['/home/eamonn/Projects/corpuscule/ycac/ycac_all.corpus']"
   ]
  },
  {
   "cell_type": "code",
   "execution_count": 3,
   "metadata": {
    "collapsed": true
   },
   "outputs": [],
   "source": [
    "df = pd.DataFrame()"
   ]
  },
  {
   "cell_type": "code",
   "execution_count": 4,
   "metadata": {
    "collapsed": false
   },
   "outputs": [],
   "source": [
    "for fn in fns:\n",
    "    df = df.append(pd.read_csv(fn,encoding='latin1'))"
   ]
  },
  {
   "cell_type": "code",
   "execution_count": 5,
   "metadata": {
    "collapsed": false
   },
   "outputs": [
    {
     "data": {
      "text/plain": [
       "12275807"
      ]
     },
     "execution_count": 5,
     "metadata": {},
     "output_type": "execute_result"
    }
   ],
   "source": [
    "len(df)"
   ]
  },
  {
   "cell_type": "code",
   "execution_count": 6,
   "metadata": {
    "collapsed": false
   },
   "outputs": [],
   "source": [
    "@functools.lru_cache(maxsize=None)\n",
    "def str_to_vec(s):\n",
    "    l = eval(s)\n",
    "    rep = \"\"\n",
    "    for i in range(12):\n",
    "        if i in l:\n",
    "            rep += \"1\"\n",
    "        else:\n",
    "            rep += \"0\"\n",
    "    return rep"
   ]
  },
  {
   "cell_type": "code",
   "execution_count": 7,
   "metadata": {
    "collapsed": false
   },
   "outputs": [
    {
     "data": {
      "text/html": [
       "<div>\n",
       "<table border=\"1\" class=\"dataframe\">\n",
       "  <thead>\n",
       "    <tr style=\"text-align: right;\">\n",
       "      <th></th>\n",
       "      <th>offset</th>\n",
       "      <th>PCsInNormalForm</th>\n",
       "      <th>file</th>\n",
       "      <th>Composer</th>\n",
       "    </tr>\n",
       "  </thead>\n",
       "  <tbody>\n",
       "    <tr>\n",
       "      <th>0</th>\n",
       "      <td>3.000</td>\n",
       "      <td>[7]</td>\n",
       "      <td>Danse Andalouse Eb major.mid</td>\n",
       "      <td>Ascher</td>\n",
       "    </tr>\n",
       "    <tr>\n",
       "      <th>1</th>\n",
       "      <td>3.500</td>\n",
       "      <td>[8, 0, 3]</td>\n",
       "      <td>Danse Andalouse Eb major.mid</td>\n",
       "      <td>Ascher</td>\n",
       "    </tr>\n",
       "    <tr>\n",
       "      <th>2</th>\n",
       "      <td>3.625</td>\n",
       "      <td>[0]</td>\n",
       "      <td>Danse Andalouse Eb major.mid</td>\n",
       "      <td>Ascher</td>\n",
       "    </tr>\n",
       "    <tr>\n",
       "      <th>3</th>\n",
       "      <td>3.750</td>\n",
       "      <td>[8, 0, 3]</td>\n",
       "      <td>Danse Andalouse Eb major.mid</td>\n",
       "      <td>Ascher</td>\n",
       "    </tr>\n",
       "    <tr>\n",
       "      <th>4</th>\n",
       "      <td>3.875</td>\n",
       "      <td>[0]</td>\n",
       "      <td>Danse Andalouse Eb major.mid</td>\n",
       "      <td>Ascher</td>\n",
       "    </tr>\n",
       "  </tbody>\n",
       "</table>\n",
       "</div>"
      ],
      "text/plain": [
       "   offset PCsInNormalForm                          file Composer\n",
       "0   3.000             [7]  Danse Andalouse Eb major.mid   Ascher\n",
       "1   3.500       [8, 0, 3]  Danse Andalouse Eb major.mid   Ascher\n",
       "2   3.625             [0]  Danse Andalouse Eb major.mid   Ascher\n",
       "3   3.750       [8, 0, 3]  Danse Andalouse Eb major.mid   Ascher\n",
       "4   3.875             [0]  Danse Andalouse Eb major.mid   Ascher"
      ]
     },
     "execution_count": 7,
     "metadata": {},
     "output_type": "execute_result"
    }
   ],
   "source": [
    "df.head(5)"
   ]
  },
  {
   "cell_type": "code",
   "execution_count": 8,
   "metadata": {
    "collapsed": false
   },
   "outputs": [
    {
     "name": "stdout",
     "output_type": "stream",
     "text": [
      "CPU times: user 1.98 s, sys: 26.7 ms, total: 2 s\n",
      "Wall time: 2.01 s\n"
     ]
    }
   ],
   "source": [
    "%%time\n",
    "df['canonical'] = df.PCsInNormalForm.apply(str_to_vec)"
   ]
  },
  {
   "cell_type": "code",
   "execution_count": 9,
   "metadata": {
    "collapsed": false
   },
   "outputs": [
    {
     "data": {
      "text/html": [
       "<div>\n",
       "<table border=\"1\" class=\"dataframe\">\n",
       "  <thead>\n",
       "    <tr style=\"text-align: right;\">\n",
       "      <th></th>\n",
       "      <th>offset</th>\n",
       "      <th>PCsInNormalForm</th>\n",
       "      <th>file</th>\n",
       "      <th>Composer</th>\n",
       "      <th>canonical</th>\n",
       "    </tr>\n",
       "  </thead>\n",
       "  <tbody>\n",
       "    <tr>\n",
       "      <th>0</th>\n",
       "      <td>3.000</td>\n",
       "      <td>[7]</td>\n",
       "      <td>Danse Andalouse Eb major.mid</td>\n",
       "      <td>Ascher</td>\n",
       "      <td>000000010000</td>\n",
       "    </tr>\n",
       "    <tr>\n",
       "      <th>1</th>\n",
       "      <td>3.500</td>\n",
       "      <td>[8, 0, 3]</td>\n",
       "      <td>Danse Andalouse Eb major.mid</td>\n",
       "      <td>Ascher</td>\n",
       "      <td>100100001000</td>\n",
       "    </tr>\n",
       "    <tr>\n",
       "      <th>2</th>\n",
       "      <td>3.625</td>\n",
       "      <td>[0]</td>\n",
       "      <td>Danse Andalouse Eb major.mid</td>\n",
       "      <td>Ascher</td>\n",
       "      <td>100000000000</td>\n",
       "    </tr>\n",
       "    <tr>\n",
       "      <th>3</th>\n",
       "      <td>3.750</td>\n",
       "      <td>[8, 0, 3]</td>\n",
       "      <td>Danse Andalouse Eb major.mid</td>\n",
       "      <td>Ascher</td>\n",
       "      <td>100100001000</td>\n",
       "    </tr>\n",
       "    <tr>\n",
       "      <th>4</th>\n",
       "      <td>3.875</td>\n",
       "      <td>[0]</td>\n",
       "      <td>Danse Andalouse Eb major.mid</td>\n",
       "      <td>Ascher</td>\n",
       "      <td>100000000000</td>\n",
       "    </tr>\n",
       "  </tbody>\n",
       "</table>\n",
       "</div>"
      ],
      "text/plain": [
       "   offset PCsInNormalForm                          file Composer     canonical\n",
       "0   3.000             [7]  Danse Andalouse Eb major.mid   Ascher  000000010000\n",
       "1   3.500       [8, 0, 3]  Danse Andalouse Eb major.mid   Ascher  100100001000\n",
       "2   3.625             [0]  Danse Andalouse Eb major.mid   Ascher  100000000000\n",
       "3   3.750       [8, 0, 3]  Danse Andalouse Eb major.mid   Ascher  100100001000\n",
       "4   3.875             [0]  Danse Andalouse Eb major.mid   Ascher  100000000000"
      ]
     },
     "execution_count": 9,
     "metadata": {},
     "output_type": "execute_result"
    }
   ],
   "source": [
    "df.head(5)"
   ]
  },
  {
   "cell_type": "code",
   "execution_count": 10,
   "metadata": {
    "collapsed": false,
    "scrolled": false
   },
   "outputs": [
    {
     "data": {
      "text/plain": [
       "3812"
      ]
     },
     "execution_count": 10,
     "metadata": {},
     "output_type": "execute_result"
    }
   ],
   "source": [
    "u = df.canonical.unique()\n",
    "len(u)"
   ]
  },
  {
   "cell_type": "code",
   "execution_count": 11,
   "metadata": {
    "collapsed": false,
    "scrolled": true
   },
   "outputs": [
    {
     "data": {
      "text/plain": [
       "'Danse Andalouse Eb major.mid'"
      ]
     },
     "execution_count": 11,
     "metadata": {},
     "output_type": "execute_result"
    }
   ],
   "source": [
    "df.head(10).file[1]"
   ]
  },
  {
   "cell_type": "code",
   "execution_count": 12,
   "metadata": {
    "collapsed": false
   },
   "outputs": [],
   "source": [
    "meta = pd.read_csv(open('/home/eamonn/Projects/corpuscule/ycac/csv/metadata/YCAC-metadata.csv', 'r'))"
   ]
  },
  {
   "cell_type": "code",
   "execution_count": 13,
   "metadata": {
    "collapsed": false
   },
   "outputs": [],
   "source": [
    "meta.Date.fillna(meta.Range, inplace=True)"
   ]
  },
  {
   "cell_type": "code",
   "execution_count": 14,
   "metadata": {
    "collapsed": false
   },
   "outputs": [],
   "source": [
    "import numpy as np\n",
    "\n",
    "def process_range(d):\n",
    "    try:\n",
    "        if '-' in d:\n",
    "            a = int(d.split('-')[0])\n",
    "            b = int(d.split('-')[1])\n",
    "            return int((a + b) / 2)\n",
    "        else:\n",
    "            return int(d)\n",
    "    except:\n",
    "        return np.nan"
   ]
  },
  {
   "cell_type": "code",
   "execution_count": 15,
   "metadata": {
    "collapsed": false
   },
   "outputs": [],
   "source": [
    "meta['EstDate'] = meta.Date.apply(process_range)"
   ]
  },
  {
   "cell_type": "code",
   "execution_count": 16,
   "metadata": {
    "collapsed": false
   },
   "outputs": [],
   "source": [
    "df['file'] = df.file.apply(lambda s: s.replace('.mid', ''))\n",
    "df['Filename'] = df['file']"
   ]
  },
  {
   "cell_type": "code",
   "execution_count": 17,
   "metadata": {
    "collapsed": false
   },
   "outputs": [],
   "source": [
    "master = pd.merge(df, meta, on='Filename')"
   ]
  },
  {
   "cell_type": "code",
   "execution_count": 18,
   "metadata": {
    "collapsed": false
   },
   "outputs": [
    {
     "data": {
      "text/html": [
       "<div>\n",
       "<table border=\"1\" class=\"dataframe\">\n",
       "  <thead>\n",
       "    <tr style=\"text-align: right;\">\n",
       "      <th></th>\n",
       "      <th>offset</th>\n",
       "      <th>PCsInNormalForm</th>\n",
       "      <th>file</th>\n",
       "      <th>Composer_x</th>\n",
       "      <th>canonical</th>\n",
       "      <th>Filename</th>\n",
       "      <th>Title</th>\n",
       "      <th>Composer_y</th>\n",
       "      <th>CatNo</th>\n",
       "      <th>Date</th>\n",
       "      <th>...</th>\n",
       "      <th>Genre</th>\n",
       "      <th>Subgenre</th>\n",
       "      <th>Species</th>\n",
       "      <th>Species2</th>\n",
       "      <th>Nationality</th>\n",
       "      <th>Key</th>\n",
       "      <th>Modulation</th>\n",
       "      <th>Folder</th>\n",
       "      <th>Comments</th>\n",
       "      <th>EstDate</th>\n",
       "    </tr>\n",
       "  </thead>\n",
       "  <tbody>\n",
       "    <tr>\n",
       "      <th>0</th>\n",
       "      <td>3.000</td>\n",
       "      <td>[7]</td>\n",
       "      <td>Danse Andalouse Eb major</td>\n",
       "      <td>Ascher</td>\n",
       "      <td>000000010000</td>\n",
       "      <td>Danse Andalouse Eb major</td>\n",
       "      <td>Danse Andalouse</td>\n",
       "      <td>Ascher</td>\n",
       "      <td>Op30</td>\n",
       "      <td>1850-1860</td>\n",
       "      <td>...</td>\n",
       "      <td>OtherSolo</td>\n",
       "      <td>NaN</td>\n",
       "      <td>NaN</td>\n",
       "      <td>NaN</td>\n",
       "      <td>England</td>\n",
       "      <td>Eb major</td>\n",
       "      <td>NaN</td>\n",
       "      <td>A</td>\n",
       "      <td>NaN</td>\n",
       "      <td>1855.0</td>\n",
       "    </tr>\n",
       "    <tr>\n",
       "      <th>1</th>\n",
       "      <td>3.500</td>\n",
       "      <td>[8, 0, 3]</td>\n",
       "      <td>Danse Andalouse Eb major</td>\n",
       "      <td>Ascher</td>\n",
       "      <td>100100001000</td>\n",
       "      <td>Danse Andalouse Eb major</td>\n",
       "      <td>Danse Andalouse</td>\n",
       "      <td>Ascher</td>\n",
       "      <td>Op30</td>\n",
       "      <td>1850-1860</td>\n",
       "      <td>...</td>\n",
       "      <td>OtherSolo</td>\n",
       "      <td>NaN</td>\n",
       "      <td>NaN</td>\n",
       "      <td>NaN</td>\n",
       "      <td>England</td>\n",
       "      <td>Eb major</td>\n",
       "      <td>NaN</td>\n",
       "      <td>A</td>\n",
       "      <td>NaN</td>\n",
       "      <td>1855.0</td>\n",
       "    </tr>\n",
       "    <tr>\n",
       "      <th>2</th>\n",
       "      <td>3.625</td>\n",
       "      <td>[0]</td>\n",
       "      <td>Danse Andalouse Eb major</td>\n",
       "      <td>Ascher</td>\n",
       "      <td>100000000000</td>\n",
       "      <td>Danse Andalouse Eb major</td>\n",
       "      <td>Danse Andalouse</td>\n",
       "      <td>Ascher</td>\n",
       "      <td>Op30</td>\n",
       "      <td>1850-1860</td>\n",
       "      <td>...</td>\n",
       "      <td>OtherSolo</td>\n",
       "      <td>NaN</td>\n",
       "      <td>NaN</td>\n",
       "      <td>NaN</td>\n",
       "      <td>England</td>\n",
       "      <td>Eb major</td>\n",
       "      <td>NaN</td>\n",
       "      <td>A</td>\n",
       "      <td>NaN</td>\n",
       "      <td>1855.0</td>\n",
       "    </tr>\n",
       "    <tr>\n",
       "      <th>3</th>\n",
       "      <td>3.750</td>\n",
       "      <td>[8, 0, 3]</td>\n",
       "      <td>Danse Andalouse Eb major</td>\n",
       "      <td>Ascher</td>\n",
       "      <td>100100001000</td>\n",
       "      <td>Danse Andalouse Eb major</td>\n",
       "      <td>Danse Andalouse</td>\n",
       "      <td>Ascher</td>\n",
       "      <td>Op30</td>\n",
       "      <td>1850-1860</td>\n",
       "      <td>...</td>\n",
       "      <td>OtherSolo</td>\n",
       "      <td>NaN</td>\n",
       "      <td>NaN</td>\n",
       "      <td>NaN</td>\n",
       "      <td>England</td>\n",
       "      <td>Eb major</td>\n",
       "      <td>NaN</td>\n",
       "      <td>A</td>\n",
       "      <td>NaN</td>\n",
       "      <td>1855.0</td>\n",
       "    </tr>\n",
       "    <tr>\n",
       "      <th>4</th>\n",
       "      <td>3.875</td>\n",
       "      <td>[0]</td>\n",
       "      <td>Danse Andalouse Eb major</td>\n",
       "      <td>Ascher</td>\n",
       "      <td>100000000000</td>\n",
       "      <td>Danse Andalouse Eb major</td>\n",
       "      <td>Danse Andalouse</td>\n",
       "      <td>Ascher</td>\n",
       "      <td>Op30</td>\n",
       "      <td>1850-1860</td>\n",
       "      <td>...</td>\n",
       "      <td>OtherSolo</td>\n",
       "      <td>NaN</td>\n",
       "      <td>NaN</td>\n",
       "      <td>NaN</td>\n",
       "      <td>England</td>\n",
       "      <td>Eb major</td>\n",
       "      <td>NaN</td>\n",
       "      <td>A</td>\n",
       "      <td>NaN</td>\n",
       "      <td>1855.0</td>\n",
       "    </tr>\n",
       "  </tbody>\n",
       "</table>\n",
       "<p>5 rows × 24 columns</p>\n",
       "</div>"
      ],
      "text/plain": [
       "   offset PCsInNormalForm                      file Composer_x     canonical  \\\n",
       "0   3.000             [7]  Danse Andalouse Eb major     Ascher  000000010000   \n",
       "1   3.500       [8, 0, 3]  Danse Andalouse Eb major     Ascher  100100001000   \n",
       "2   3.625             [0]  Danse Andalouse Eb major     Ascher  100000000000   \n",
       "3   3.750       [8, 0, 3]  Danse Andalouse Eb major     Ascher  100100001000   \n",
       "4   3.875             [0]  Danse Andalouse Eb major     Ascher  100000000000   \n",
       "\n",
       "                   Filename            Title Composer_y CatNo       Date  \\\n",
       "0  Danse Andalouse Eb major  Danse Andalouse     Ascher  Op30  1850-1860   \n",
       "1  Danse Andalouse Eb major  Danse Andalouse     Ascher  Op30  1850-1860   \n",
       "2  Danse Andalouse Eb major  Danse Andalouse     Ascher  Op30  1850-1860   \n",
       "3  Danse Andalouse Eb major  Danse Andalouse     Ascher  Op30  1850-1860   \n",
       "4  Danse Andalouse Eb major  Danse Andalouse     Ascher  Op30  1850-1860   \n",
       "\n",
       "    ...        Genre Subgenre Species  Species2 Nationality       Key  \\\n",
       "0   ...    OtherSolo      NaN      NaN      NaN     England  Eb major   \n",
       "1   ...    OtherSolo      NaN      NaN      NaN     England  Eb major   \n",
       "2   ...    OtherSolo      NaN      NaN      NaN     England  Eb major   \n",
       "3   ...    OtherSolo      NaN      NaN      NaN     England  Eb major   \n",
       "4   ...    OtherSolo      NaN      NaN      NaN     England  Eb major   \n",
       "\n",
       "  Modulation Folder Comments EstDate  \n",
       "0        NaN      A      NaN  1855.0  \n",
       "1        NaN      A      NaN  1855.0  \n",
       "2        NaN      A      NaN  1855.0  \n",
       "3        NaN      A      NaN  1855.0  \n",
       "4        NaN      A      NaN  1855.0  \n",
       "\n",
       "[5 rows x 24 columns]"
      ]
     },
     "execution_count": 18,
     "metadata": {},
     "output_type": "execute_result"
    }
   ],
   "source": [
    "master.head(5)"
   ]
  },
  {
   "cell_type": "markdown",
   "metadata": {},
   "source": [
    "## Dump to text file"
   ]
  },
  {
   "cell_type": "code",
   "execution_count": 21,
   "metadata": {
    "collapsed": false
   },
   "outputs": [],
   "source": [
    "top_composers = list(master.Composer_x.value_counts().keys()[:50])"
   ]
  },
  {
   "cell_type": "code",
   "execution_count": 25,
   "metadata": {
    "collapsed": true
   },
   "outputs": [
    {
     "name": "stdout",
     "output_type": "stream",
     "text": [
      "Mozart group done\n",
      "Mozart dump done\n",
      "Beethoven group done\n",
      "Beethoven dump done\n",
      "Haydn group done\n",
      "Haydn dump done\n",
      "Schubert group done\n",
      "Schubert dump done\n",
      "Scarlatti group done\n",
      "Scarlatti dump done\n",
      "Chopin group done\n",
      "Chopin dump done\n",
      "Bach group done\n",
      "Bach dump done\n",
      "Brahms group done\n",
      "Brahms dump done\n",
      "Liszt group done\n",
      "Liszt dump done\n",
      "Mendelssohn group done\n",
      "Mendelssohn dump done\n",
      "Dvorak group done\n",
      "Dvorak dump done\n",
      "Telemann group done\n",
      "Telemann dump done\n",
      "Tchaikovsky group done\n",
      "Tchaikovsky dump done\n",
      "Handel group done\n",
      "Handel dump done\n",
      "Schumann group done\n",
      "Schumann dump done\n",
      "Wagner group done\n",
      "Wagner dump done\n",
      "Vivaldi group done\n",
      "Vivaldi dump done\n",
      "Saint-Saens group done\n",
      "Saint-Saens dump done\n",
      "Hummel group done\n",
      "Hummel dump done\n",
      "Verdi group done\n",
      "Verdi dump done\n",
      "Rossini group done\n",
      "Rossini dump done\n",
      "Byrd group done\n",
      "Byrd dump done\n",
      "Sor group done\n",
      "Sor dump done\n",
      "Weber group done\n",
      "Weber dump done\n",
      "Alkan group done\n",
      "Alkan dump done\n",
      "Albeniz group done\n",
      "Albeniz dump done\n",
      "Czerny group done\n",
      "Czerny dump done\n",
      "Faure group done\n",
      "Faure dump done\n",
      "Rachmaninov group done\n",
      "Rachmaninov dump done\n",
      "Smetana group done\n",
      "Smetana dump done\n",
      "Paganini group done\n",
      "Paganini dump done\n",
      "Giuliani group done\n",
      "Giuliani dump done\n",
      "Bizet group done\n",
      "Bizet dump done\n",
      "Hasse group done\n",
      "Hasse dump done\n",
      "Debussy group done\n",
      "Debussy dump done\n",
      "Ravel group done\n",
      "Ravel dump done\n",
      "Scriabin group done\n",
      "Scriabin dump done\n",
      "Clementi group done\n",
      "Clementi dump done\n",
      "Sousa group done\n",
      "Sousa dump done\n",
      "Purcell group done\n",
      "Purcell dump done\n",
      "Bruckner group done\n",
      "Bruckner dump done\n",
      "Thalberg group done\n",
      "Thalberg dump done\n",
      "Nunes Garcia group done\n",
      "Nunes Garcia dump done\n",
      "Strauss II group done\n",
      "Strauss II dump done\n",
      "Puccini group done\n",
      "Puccini dump done\n",
      "Franck group done\n",
      "Franck dump done\n",
      "Kuhlau group done\n",
      "Kuhlau dump done\n",
      "Donizetti group done\n",
      "Donizetti dump done\n",
      "Weiss group done\n",
      "Weiss dump done\n",
      "Corelli group done\n",
      "Corelli dump done\n"
     ]
    }
   ],
   "source": [
    "for composer in top_composers:\n",
    "    sub = master[master.Composer_x == composer]\n",
    "    sub = sub[['file', 'canonical']]\n",
    "\n",
    "    files = list(sub.file)\n",
    "    vecs = list(sub.canonical)\n",
    "\n",
    "    fv = pd.DataFrame(list(zip(files,vecs)),columns = ['file', 'canonical'])\n",
    "    fv.reset_index()\n",
    "    \n",
    "    # done = fv.groupby('file')['canonical'].apply(list)\n",
    "    docs = ['{} '.format(l) for l in list(fv.canonical)]\n",
    "    \n",
    "    del fv\n",
    "\n",
    "    print(\"{} group done\".format(composer))\n",
    "\n",
    "    with open('{}.corpus'.format(composer), 'w') as f:\n",
    "        f.writelines(docs)\n",
    "\n",
    "    print(\"{} dump done\".format(composer))"
   ]
  },
  {
   "cell_type": "code",
   "execution_count": 28,
   "metadata": {
    "collapsed": true
   },
   "outputs": [],
   "source": [
    "start_years = [x for x in range(1650, 1950, 10)]"
   ]
  },
  {
   "cell_type": "code",
   "execution_count": 30,
   "metadata": {
    "collapsed": false
   },
   "outputs": [],
   "source": [
    "eras = [(x, x+9) for x in start_years]"
   ]
  },
  {
   "cell_type": "code",
   "execution_count": 36,
   "metadata": {
    "collapsed": true
   },
   "outputs": [],
   "source": [
    "eras = [(1650,1850)]"
   ]
  },
  {
   "cell_type": "code",
   "execution_count": 37,
   "metadata": {
    "collapsed": false
   },
   "outputs": [
    {
     "name": "stdout",
     "output_type": "stream",
     "text": [
      "1650-1850 group done\n",
      "1650-1850 dump done\n"
     ]
    }
   ],
   "source": [
    "for era in eras:\n",
    "    start_year = era[0]\n",
    "    end_year = era[1]\n",
    "    \n",
    "    sub = master[master.EstDate.isin(range(start_year, end_year))]\n",
    "    sub = sub[['file', 'canonical']]\n",
    "\n",
    "    label = \"{}-{}\".format(start_year, end_year)\n",
    "    \n",
    "    files = list(sub.file)\n",
    "    vecs = list(sub.canonical)\n",
    "\n",
    "    fv = pd.DataFrame(list(zip(files,vecs)),columns = ['file', 'canonical'])\n",
    "    fv.reset_index()\n",
    "    \n",
    "    #done = fv.groupby('file')['canonical'].apply(list)\n",
    "    docs = ['{} '.format(l) for l in list(fv.canonical)]\n",
    "\n",
    "    print(\"{} group done\".format(label))\n",
    "\n",
    "    with open('{}.corpus'.format(label), 'w') as f:\n",
    "        f.writelines(docs)\n",
    "    \n",
    "    print(\"{} dump done\".format(label))"
   ]
  },
  {
   "cell_type": "code",
   "execution_count": null,
   "metadata": {
    "collapsed": true
   },
   "outputs": [],
   "source": []
  }
 ],
 "metadata": {
  "kernelspec": {
   "display_name": "Python 3",
   "language": "python",
   "name": "python3"
  },
  "language_info": {
   "codemirror_mode": {
    "name": "ipython",
    "version": 3
   },
   "file_extension": ".py",
   "mimetype": "text/x-python",
   "name": "python",
   "nbconvert_exporter": "python",
   "pygments_lexer": "ipython3",
   "version": "3.5.2"
  }
 },
 "nbformat": 4,
 "nbformat_minor": 0
}
