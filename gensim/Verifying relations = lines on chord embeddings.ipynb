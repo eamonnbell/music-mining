{
 "cells": [
  {
   "cell_type": "code",
   "execution_count": 42,
   "metadata": {
    "collapsed": true
   },
   "outputs": [],
   "source": [
    "import music21\n",
    "import numpy as np\n",
    "import scipy as sp\n",
    "import json"
   ]
  },
  {
   "cell_type": "code",
   "execution_count": 2,
   "metadata": {
    "collapsed": true
   },
   "outputs": [],
   "source": [
    "def chunks(l, n):\n",
    "    \"\"\"Yield successive n-sized chunks from l.\"\"\"\n",
    "    for i in range(0, len(l), n):\n",
    "        yield l[i:i+n]\n",
    "\n",
    "def transpose_to_all(c):\n",
    "    out = []\n",
    "    old = c\n",
    "    for i in range(12):\n",
    "        new = old.transpose(7)\n",
    "        out.append(new)\n",
    "        old = new\n",
    "    return out\n",
    "\n",
    "def transpose_to_some(c, degree):\n",
    "    out = []\n",
    "    out.append(c)\n",
    "    old = c\n",
    "    for i in range(degree):\n",
    "        new = old.transpose(7)\n",
    "        out.append(new)\n",
    "        old = new\n",
    "    return out\n",
    "        \n",
    "def c_to_strep(c):\n",
    "    rep = \"\"\n",
    "    for i in range(12):\n",
    "        if i in c.pitchClasses:\n",
    "            rep += \"1\"\n",
    "        else:\n",
    "            rep += \"0\"\n",
    "    return rep\n",
    "\n",
    "def strep_to_c(strep):\n",
    "    pcs = []\n",
    "    for i, v in enumerate(strep):\n",
    "        if v == '1':\n",
    "            pcs.append(i)\n",
    "    return music21.chord.Chord(pcs)\n",
    "\n",
    "def strep_to_symbol(strep):\n",
    "    c = strep_to_c(strep)\n",
    "    return music21.harmony.chordSymbolFigureFromChord(c)"
   ]
  },
  {
   "cell_type": "markdown",
   "metadata": {},
   "source": [
    "The idea here is from Arora et. al (2016). \n",
    "\n",
    "Use SVD on known relation pairs\n",
    "\n",
    "1. Construct a list of pairs of chords in a relationship (a, b)\n",
    "2. Look up their embedding vectors and subtract v_a - v_b\n",
    "3. Calculate top k singular vectors\n",
    "4. Look at correlation with top k singular vectors\n",
    "\n",
    "Let's look at dominant sevenths going to tonics"
   ]
  },
  {
   "cell_type": "code",
   "execution_count": 134,
   "metadata": {
    "collapsed": true
   },
   "outputs": [],
   "source": [
    "a = music21.chord.Chord('C E G B-')\n",
    "b = music21.chord.Chord('F A C')\n",
    "c = music21.chord.Chord('F A- C')"
   ]
  },
  {
   "cell_type": "code",
   "execution_count": 135,
   "metadata": {
    "collapsed": true
   },
   "outputs": [],
   "source": [
    "all_a = transpose_to_all(a)\n",
    "all_b = transpose_to_all(b)\n",
    "all_c = transpose_to_all(c)"
   ]
  },
  {
   "cell_type": "code",
   "execution_count": 136,
   "metadata": {
    "collapsed": false
   },
   "outputs": [],
   "source": [
    "all_a_str = [c_to_strep(c) for c in all_a]\n",
    "all_b_str = [c_to_strep(c) for c in all_b]\n",
    "all_c_str = [c_to_strep(c) for c in all_c]"
   ]
  },
  {
   "cell_type": "code",
   "execution_count": 10,
   "metadata": {
    "collapsed": true
   },
   "outputs": [],
   "source": [
    "embeddings = np.load('./embeddings_lite.np.npy')\n",
    "metadata = json.load(open('./metadata_lite.json'))"
   ]
  },
  {
   "cell_type": "code",
   "execution_count": 15,
   "metadata": {
    "collapsed": false
   },
   "outputs": [],
   "source": [
    "labels = [m[0].replace(\"\\\"\",\"\") for m in metadata[1:]]"
   ]
  },
  {
   "cell_type": "code",
   "execution_count": 187,
   "metadata": {
    "collapsed": true
   },
   "outputs": [],
   "source": [
    "pairs = list(zip(all_a_str, all_b_str)) + list(zip(all_a_str, all_c_str))"
   ]
  },
  {
   "cell_type": "code",
   "execution_count": 188,
   "metadata": {
    "collapsed": false
   },
   "outputs": [
    {
     "data": {
      "text/plain": [
       "((1426, 100), 1426)"
      ]
     },
     "execution_count": 188,
     "metadata": {},
     "output_type": "execute_result"
    }
   ],
   "source": [
    "embeddings.shape, len(labels)"
   ]
  },
  {
   "cell_type": "code",
   "execution_count": 189,
   "metadata": {
    "collapsed": false
   },
   "outputs": [],
   "source": [
    "differences = []\n",
    "\n",
    "for a, b in pairs:\n",
    "    v_a = embeddings[labels.index(a)]\n",
    "    v_b = embeddings[labels.index(b)]\n",
    "    difference = v_a - v_b\n",
    "    differences.append(difference)"
   ]
  },
  {
   "cell_type": "code",
   "execution_count": 190,
   "metadata": {
    "collapsed": false
   },
   "outputs": [],
   "source": [
    "dmat = np.array(differences)"
   ]
  },
  {
   "cell_type": "code",
   "execution_count": 191,
   "metadata": {
    "collapsed": false
   },
   "outputs": [
    {
     "data": {
      "text/plain": [
       "(24, 100)"
      ]
     },
     "execution_count": 191,
     "metadata": {},
     "output_type": "execute_result"
    }
   ],
   "source": [
    "dmat.shape"
   ]
  },
  {
   "cell_type": "code",
   "execution_count": 198,
   "metadata": {
    "collapsed": true
   },
   "outputs": [],
   "source": [
    "from scipy.spatial import distance"
   ]
  },
  {
   "cell_type": "code",
   "execution_count": 200,
   "metadata": {
    "collapsed": false
   },
   "outputs": [
    {
     "data": {
      "text/plain": [
       "((24, 6), (6,), (6, 100))"
      ]
     },
     "execution_count": 200,
     "metadata": {},
     "output_type": "execute_result"
    }
   ],
   "source": [
    "U, s, V = sp.sparse.linalg.svds(dmat, k=6)\n",
    "U.shape, s.shape, V.shape"
   ]
  },
  {
   "cell_type": "code",
   "execution_count": 201,
   "metadata": {
    "collapsed": false
   },
   "outputs": [
    {
     "data": {
      "text/plain": [
       "((6, 100), (24, 100))"
      ]
     },
     "execution_count": 201,
     "metadata": {},
     "output_type": "execute_result"
    }
   ],
   "source": [
    "V.shape, dmat.shape"
   ]
  },
  {
   "cell_type": "code",
   "execution_count": 209,
   "metadata": {
    "collapsed": false
   },
   "outputs": [
    {
     "name": "stdout",
     "output_type": "stream",
     "text": [
      "0.878224849568\n",
      "1.0106194718\n",
      "0.738154559143\n",
      "0.794753170696\n",
      "0.954322005279\n",
      "0.757469672714\n",
      "0.322186673442\n",
      "1.44031271426\n",
      "0.858912043257\n",
      "0.597902911819\n",
      "0.923239117229\n",
      "0.856307738041\n",
      "0.81945090257\n",
      "1.04372492962\n",
      "0.923558594134\n",
      "0.732038594518\n",
      "0.854454458546\n",
      "0.765536390633\n",
      "0.389563351519\n",
      "1.1743918713\n",
      "0.982853044165\n",
      "0.433756342486\n",
      "0.896422284691\n",
      "1.00013230295\n"
     ]
    }
   ],
   "source": [
    "for i in range(24):\n",
    "    print(distance.cosine(V[3], dmat[i]))"
   ]
  },
  {
   "cell_type": "code",
   "execution_count": null,
   "metadata": {
    "collapsed": true
   },
   "outputs": [],
   "source": []
  },
  {
   "cell_type": "code",
   "execution_count": null,
   "metadata": {
    "collapsed": true
   },
   "outputs": [],
   "source": []
  }
 ],
 "metadata": {
  "kernelspec": {
   "display_name": "Python 3",
   "language": "python",
   "name": "python3"
  },
  "language_info": {
   "codemirror_mode": {
    "name": "ipython",
    "version": 3
   },
   "file_extension": ".py",
   "mimetype": "text/x-python",
   "name": "python",
   "nbconvert_exporter": "python",
   "pygments_lexer": "ipython3",
   "version": "3.5.2"
  }
 },
 "nbformat": 4,
 "nbformat_minor": 2
}
