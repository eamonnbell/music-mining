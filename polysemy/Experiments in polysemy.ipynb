{
 "cells": [
  {
   "cell_type": "code",
   "execution_count": 13,
   "metadata": {
    "collapsed": true
   },
   "outputs": [],
   "source": [
    "import scipy as sp\n",
    "import numpy as np\n",
    "\n",
    "import scipy.stats"
   ]
  },
  {
   "cell_type": "code",
   "execution_count": 151,
   "metadata": {
    "collapsed": true
   },
   "outputs": [],
   "source": [
    "from sklearn.decomposition import TruncatedSVD "
   ]
  },
  {
   "cell_type": "code",
   "execution_count": 45,
   "metadata": {
    "collapsed": true
   },
   "outputs": [],
   "source": [
    "import operator"
   ]
  },
  {
   "cell_type": "code",
   "execution_count": 22,
   "metadata": {
    "collapsed": true
   },
   "outputs": [],
   "source": [
    "from sklearn.metrics.pairwise import cosine_similarity"
   ]
  },
  {
   "cell_type": "code",
   "execution_count": 17,
   "metadata": {
    "collapsed": true
   },
   "outputs": [],
   "source": [
    "import json"
   ]
  },
  {
   "cell_type": "code",
   "execution_count": 21,
   "metadata": {
    "collapsed": true
   },
   "outputs": [],
   "source": [
    "import ksvd"
   ]
  },
  {
   "cell_type": "code",
   "execution_count": 10,
   "metadata": {
    "collapsed": true
   },
   "outputs": [],
   "source": [
    "from collections import Counter"
   ]
  },
  {
   "cell_type": "code",
   "execution_count": 4,
   "metadata": {
    "collapsed": true
   },
   "outputs": [],
   "source": [
    "from matplotlib import pyplot as plt\n",
    "plt.style.use('ggplot')\n",
    "\n",
    "%matplotlib inline\n",
    "%config InlineBackend.figure_format = 'svg'"
   ]
  },
  {
   "cell_type": "code",
   "execution_count": 8,
   "metadata": {
    "collapsed": true
   },
   "outputs": [],
   "source": [
    "with open('../tf/billboard.corpus', 'r') as f:\n",
    "    billboard = [l.strip() for l in f.readlines()]"
   ]
  },
  {
   "cell_type": "code",
   "execution_count": 18,
   "metadata": {
    "collapsed": false
   },
   "outputs": [],
   "source": [
    "embeddings = np.load('../tf/billboard.zip_embeddings.npy')\n",
    "labels = json.load(open('../tf/billboard.zip_labels.json'))"
   ]
  },
  {
   "cell_type": "code",
   "execution_count": 75,
   "metadata": {
    "collapsed": false
   },
   "outputs": [
    {
     "data": {
      "text/plain": [
       "((500, 100), 500)"
      ]
     },
     "execution_count": 75,
     "metadata": {},
     "output_type": "execute_result"
    }
   ],
   "source": [
    "embeddings.shape, len(labels)"
   ]
  },
  {
   "cell_type": "code",
   "execution_count": 159,
   "metadata": {
    "collapsed": false
   },
   "outputs": [],
   "source": [
    "def closest_k_by_cosine(embeddings, query,k=10):\n",
    "    distances = {}\n",
    "    for index, v in enumerate(embeddings):\n",
    "        distances[index] = float(cosine_similarity(query, v.reshape(1, -1)))\n",
    "    return sorted(distances.items(), key=operator.itemgetter(1), reverse=True)[:k]"
   ]
  },
  {
   "cell_type": "code",
   "execution_count": 160,
   "metadata": {
    "collapsed": false
   },
   "outputs": [
    {
     "name": "stdout",
     "output_type": "stream",
     "text": [
      "D:min\n"
     ]
    }
   ],
   "source": [
    "print(labels[15])"
   ]
  },
  {
   "cell_type": "code",
   "execution_count": 161,
   "metadata": {
    "collapsed": false
   },
   "outputs": [
    {
     "name": "stdout",
     "output_type": "stream",
     "text": [
      "D:min\n",
      "F:maj\n",
      "Bb:maj\n",
      "A:min\n",
      "G:min\n",
      "C:maj\n",
      "D:maj\n",
      "G:5\n",
      "G:maj\n",
      "A:7\n"
     ]
    }
   ],
   "source": [
    "closest = closest_k_by_cosine(embeddings, embeddings[15].reshape(1, -1))\n",
    "\n",
    "for i, sim in closest:\n",
    "    print(labels[i])"
   ]
  },
  {
   "cell_type": "code",
   "execution_count": 224,
   "metadata": {
    "collapsed": false
   },
   "outputs": [],
   "source": [
    "dl = DictionaryLearning(n_components=200)"
   ]
  },
  {
   "cell_type": "code",
   "execution_count": 225,
   "metadata": {
    "collapsed": false
   },
   "outputs": [],
   "source": [
    "t = dl.fit_transform(embeddings)"
   ]
  },
  {
   "cell_type": "code",
   "execution_count": 226,
   "metadata": {
    "collapsed": false
   },
   "outputs": [
    {
     "data": {
      "text/plain": [
       "((500, 100), (500, 200))"
      ]
     },
     "execution_count": 226,
     "metadata": {},
     "output_type": "execute_result"
    }
   ],
   "source": [
    "embeddings.shape, t.shape"
   ]
  },
  {
   "cell_type": "code",
   "execution_count": 227,
   "metadata": {
    "collapsed": false
   },
   "outputs": [
    {
     "name": "stderr",
     "output_type": "stream",
     "text": [
      "/usr/lib/python3.5/site-packages/sklearn/utils/validation.py:395: DeprecationWarning: Passing 1d arrays as data is deprecated in 0.17 and will raise ValueError in 0.19. Reshape your data either using X.reshape(-1, 1) if your data has a single feature or X.reshape(1, -1) if it contains a single sample.\n",
      "  DeprecationWarning)\n"
     ]
    }
   ],
   "source": [
    "tv = dl.transform(embeddings[15])"
   ]
  },
  {
   "cell_type": "code",
   "execution_count": 228,
   "metadata": {
    "collapsed": false
   },
   "outputs": [
    {
     "data": {
      "text/plain": [
       "(200, 100)"
      ]
     },
     "execution_count": 228,
     "metadata": {},
     "output_type": "execute_result"
    }
   ],
   "source": [
    "dl.components_.shape"
   ]
  },
  {
   "cell_type": "code",
   "execution_count": 229,
   "metadata": {
    "collapsed": false
   },
   "outputs": [],
   "source": [
    "nnind = list(np.where(np.any(tv>0, axis=0))[0])"
   ]
  },
  {
   "cell_type": "code",
   "execution_count": 230,
   "metadata": {
    "collapsed": false
   },
   "outputs": [
    {
     "name": "stdout",
     "output_type": "stream",
     "text": [
      "component:\n",
      "--\n",
      "E:sus4(b7) 0.29506488203130293\n",
      "D:min 0.27136260238172605\n",
      "Bb:maj/7 0.25127807212930653\n",
      "G:sus4/5 0.2390652339373165\n",
      "F:min 0.23709046609147613\n",
      "E:7/3 0.23575695126819077\n",
      "Eb:min(9) 0.22968352175354229\n",
      "G:min/5 0.22539056967722246\n",
      "F#:min11 0.21961079218630947\n",
      "A:7(b9) 0.2183817019716452\n",
      "--\n",
      "component:\n",
      "--\n",
      "Ab:7(b9,b13) 0.3826699819760756\n",
      "F#:sus4 0.3445770364516644\n",
      "B:sus4 0.3349179800476249\n",
      "G:9/3 0.32645787490044786\n",
      "F:maj/4 0.3231383261811491\n",
      "Cb:maj(9) 0.32085321196935956\n",
      "C:maj/4 0.2865353729969801\n",
      "Eb:maj/3 0.282235432711212\n",
      "G:min7/2 0.279349345850674\n",
      "D:min 0.27385705801880866\n",
      "--\n",
      "component:\n",
      "--\n",
      "C:min/b3 0.2957535502341198\n",
      "G:sus4(b7)/4 0.27629630926541515\n",
      "Ab:maj7 0.25130545684927713\n",
      "Bb:maj/2 0.24131657869169876\n",
      "Ab:maj/2 0.24002415994774495\n",
      "Eb:maj6 0.23747901501492227\n",
      "G:7/3 0.2288266070741959\n",
      "Bb:maj 0.22756306794546013\n",
      "G:maj/6 0.2090708210296753\n",
      "Eb:maj 0.20751317740700878\n",
      "--\n",
      "component:\n",
      "--\n",
      "C:1/1 0.31590027507067064\n",
      "C#:maj 0.28505587969804286\n",
      "Bb:7/5 0.2820640967748591\n",
      "C:(11) 0.27162780571335593\n",
      "B:sus4/b7 0.2646613220982035\n",
      "F:maj/6 0.2360237473435119\n",
      "Bb:maj/7 0.23008132024332817\n",
      "E:sus4(b7) 0.22995678636275643\n",
      "E:aug(b7) 0.2257003987805697\n",
      "E:sus2(b7) 0.2196426603948244\n",
      "--\n",
      "component:\n",
      "--\n",
      "G:maj(9)/3 0.32612146722086516\n",
      "E:min(9) 0.2748318310438327\n",
      "G:min/b3 0.26809103328078704\n",
      "Eb:min 0.25583688100106877\n",
      "D:min13 0.25173653678102387\n",
      "C:1/1 0.24525370004684502\n",
      "F:11 0.23979784779712848\n",
      "F:maj/6 0.23694011891136185\n",
      "Bb:maj7/7 0.22929064201189778\n",
      "E:7(b9) 0.20588703560392455\n",
      "--\n",
      "component:\n",
      "--\n",
      "C#:dim 0.2777608554268316\n",
      "Eb:maj9(13,#11) 0.27753798428565285\n",
      "G:min9 0.2603136743115167\n",
      "E:maj6(9) 0.25840601292650023\n",
      "D#:sus4(b7) 0.25516024766496165\n",
      "G:maj/2 0.25389896435505793\n",
      "D:min 0.25021660405364415\n",
      "G#:min7 0.24171636597869486\n",
      "F#:maj 0.23948556535509885\n",
      "C:dim 0.2366771767561225\n",
      "--\n"
     ]
    }
   ],
   "source": [
    "for i, component in enumerate(dl.components_):\n",
    "    if i in nnind:\n",
    "        closest = closest_k_by_cosine(embeddings, component.reshape(1, -1))\n",
    "        print(\"component:\")\n",
    "        print(\"--\")\n",
    "        for c in closest[:10]:\n",
    "            print(labels[c[0]], c[1])\n",
    "        print(\"--\")"
   ]
  },
  {
   "cell_type": "code",
   "execution_count": null,
   "metadata": {
    "collapsed": true
   },
   "outputs": [],
   "source": []
  },
  {
   "cell_type": "code",
   "execution_count": null,
   "metadata": {
    "collapsed": true
   },
   "outputs": [],
   "source": []
  }
 ],
 "metadata": {
  "kernelspec": {
   "display_name": "Python 3",
   "language": "python",
   "name": "python3"
  },
  "language_info": {
   "codemirror_mode": {
    "name": "ipython",
    "version": 3
   },
   "file_extension": ".py",
   "mimetype": "text/x-python",
   "name": "python",
   "nbconvert_exporter": "python",
   "pygments_lexer": "ipython3",
   "version": "3.5.2"
  }
 },
 "nbformat": 4,
 "nbformat_minor": 2
}
